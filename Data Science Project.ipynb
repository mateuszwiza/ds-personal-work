{
 "cells": [
  {
   "cell_type": "markdown",
   "id": "55da1b7a",
   "metadata": {},
   "source": [
    "# Data Science Assignment\n",
    "\n",
    "**Mateusz Wiza, IATSED21**\n",
    "\n",
    "For this assignment, I have decided to analyze a dataset from Uber of a cohort of driver signups in January 2016. It may be used for predicting which driver signups are most likely to start driving. I will, therefore, train a classification model using the provided dataset as an input. \n",
    "\n",
    "Source: https://github.com/bjherger/Uber-DS-Challenge"
   ]
  },
  {
   "cell_type": "markdown",
   "id": "0d58a271",
   "metadata": {},
   "source": [
    "## Table of Contents\n",
    "\n",
    "* [1. Loading the Dataset](#ltd)\n",
    "* [2. Data Analysis and Preparation](#dap)\n",
    "* [3. Features Engineering](#fe)\n",
    "    * [3.1. Target Variable](#tv)\n",
    "    * [3.2. Features Extraction](#fe2)\n",
    "    * [3.3. Multicolinearity Check](#mc)\n",
    "* [4. Modeling](#m)\n",
    "* [5. Conclusion](#c)"
   ]
  },
  {
   "cell_type": "markdown",
   "id": "f31dc991",
   "metadata": {},
   "source": [
    "## 1. Loading the Dataset <a class=\"anchor\" id=\"ltd\"></a>\n",
    "\n",
    "To perform any data analysis or modeling, first thing we need is the data. I will start with importing some useful libraries that I know I will use in this part. They include the Pandas and Numpy libraries for processing the dataset itself, as well as the vizualization libraries Matplotlib and Seaborn."
   ]
  },
  {
   "cell_type": "code",
   "execution_count": 1,
   "id": "2c50d4d2",
   "metadata": {},
   "outputs": [],
   "source": [
    "import pandas as pd\n",
    "import numpy as np\n",
    "import matplotlib.pyplot as plt \n",
    "import seaborn as sns"
   ]
  },
  {
   "cell_type": "markdown",
   "id": "a1aa43e8",
   "metadata": {},
   "source": [
    "Using Pandas, we can load the dataset from a source CSV file and take a look into a sample of the data."
   ]
  },
  {
   "cell_type": "code",
   "execution_count": 2,
   "id": "6ed24d2a",
   "metadata": {},
   "outputs": [],
   "source": [
    "data = pd.read_csv('ds_challenge_v2_1_data.csv')"
   ]
  },
  {
   "cell_type": "code",
   "execution_count": 3,
   "id": "532053a2",
   "metadata": {},
   "outputs": [
    {
     "data": {
      "text/html": [
       "<div>\n",
       "<style scoped>\n",
       "    .dataframe tbody tr th:only-of-type {\n",
       "        vertical-align: middle;\n",
       "    }\n",
       "\n",
       "    .dataframe tbody tr th {\n",
       "        vertical-align: top;\n",
       "    }\n",
       "\n",
       "    .dataframe thead th {\n",
       "        text-align: right;\n",
       "    }\n",
       "</style>\n",
       "<table border=\"1\" class=\"dataframe\">\n",
       "  <thead>\n",
       "    <tr style=\"text-align: right;\">\n",
       "      <th></th>\n",
       "      <th>id</th>\n",
       "      <th>city_name</th>\n",
       "      <th>signup_os</th>\n",
       "      <th>signup_channel</th>\n",
       "      <th>signup_date</th>\n",
       "      <th>bgc_date</th>\n",
       "      <th>vehicle_added_date</th>\n",
       "      <th>vehicle_make</th>\n",
       "      <th>vehicle_model</th>\n",
       "      <th>vehicle_year</th>\n",
       "      <th>first_completed_date</th>\n",
       "    </tr>\n",
       "  </thead>\n",
       "  <tbody>\n",
       "    <tr>\n",
       "      <th>20421</th>\n",
       "      <td>20422</td>\n",
       "      <td>Strark</td>\n",
       "      <td>ios web</td>\n",
       "      <td>Organic</td>\n",
       "      <td>1/26/16</td>\n",
       "      <td>NaN</td>\n",
       "      <td>NaN</td>\n",
       "      <td>NaN</td>\n",
       "      <td>NaN</td>\n",
       "      <td>NaN</td>\n",
       "      <td>NaN</td>\n",
       "    </tr>\n",
       "    <tr>\n",
       "      <th>30142</th>\n",
       "      <td>30143</td>\n",
       "      <td>Strark</td>\n",
       "      <td>other</td>\n",
       "      <td>Paid</td>\n",
       "      <td>1/26/16</td>\n",
       "      <td>NaN</td>\n",
       "      <td>NaN</td>\n",
       "      <td>NaN</td>\n",
       "      <td>NaN</td>\n",
       "      <td>NaN</td>\n",
       "      <td>NaN</td>\n",
       "    </tr>\n",
       "    <tr>\n",
       "      <th>7815</th>\n",
       "      <td>7816</td>\n",
       "      <td>Strark</td>\n",
       "      <td>NaN</td>\n",
       "      <td>Referral</td>\n",
       "      <td>1/9/16</td>\n",
       "      <td>NaN</td>\n",
       "      <td>NaN</td>\n",
       "      <td>NaN</td>\n",
       "      <td>NaN</td>\n",
       "      <td>NaN</td>\n",
       "      <td>NaN</td>\n",
       "    </tr>\n",
       "    <tr>\n",
       "      <th>44770</th>\n",
       "      <td>44771</td>\n",
       "      <td>Strark</td>\n",
       "      <td>other</td>\n",
       "      <td>Referral</td>\n",
       "      <td>1/25/16</td>\n",
       "      <td>1/25/16</td>\n",
       "      <td>NaN</td>\n",
       "      <td>NaN</td>\n",
       "      <td>NaN</td>\n",
       "      <td>NaN</td>\n",
       "      <td>NaN</td>\n",
       "    </tr>\n",
       "    <tr>\n",
       "      <th>10924</th>\n",
       "      <td>10925</td>\n",
       "      <td>Strark</td>\n",
       "      <td>NaN</td>\n",
       "      <td>Organic</td>\n",
       "      <td>1/5/16</td>\n",
       "      <td>1/31/16</td>\n",
       "      <td>NaN</td>\n",
       "      <td>NaN</td>\n",
       "      <td>NaN</td>\n",
       "      <td>NaN</td>\n",
       "      <td>NaN</td>\n",
       "    </tr>\n",
       "    <tr>\n",
       "      <th>90</th>\n",
       "      <td>91</td>\n",
       "      <td>Strark</td>\n",
       "      <td>NaN</td>\n",
       "      <td>Referral</td>\n",
       "      <td>1/24/16</td>\n",
       "      <td>2/6/16</td>\n",
       "      <td>NaN</td>\n",
       "      <td>NaN</td>\n",
       "      <td>NaN</td>\n",
       "      <td>NaN</td>\n",
       "      <td>NaN</td>\n",
       "    </tr>\n",
       "    <tr>\n",
       "      <th>976</th>\n",
       "      <td>977</td>\n",
       "      <td>Berton</td>\n",
       "      <td>ios web</td>\n",
       "      <td>Referral</td>\n",
       "      <td>1/16/16</td>\n",
       "      <td>NaN</td>\n",
       "      <td>NaN</td>\n",
       "      <td>NaN</td>\n",
       "      <td>NaN</td>\n",
       "      <td>NaN</td>\n",
       "      <td>NaN</td>\n",
       "    </tr>\n",
       "    <tr>\n",
       "      <th>15065</th>\n",
       "      <td>15066</td>\n",
       "      <td>Berton</td>\n",
       "      <td>ios web</td>\n",
       "      <td>Referral</td>\n",
       "      <td>1/21/16</td>\n",
       "      <td>1/22/16</td>\n",
       "      <td>NaN</td>\n",
       "      <td>NaN</td>\n",
       "      <td>NaN</td>\n",
       "      <td>NaN</td>\n",
       "      <td>NaN</td>\n",
       "    </tr>\n",
       "    <tr>\n",
       "      <th>44257</th>\n",
       "      <td>44258</td>\n",
       "      <td>Strark</td>\n",
       "      <td>windows</td>\n",
       "      <td>Referral</td>\n",
       "      <td>1/7/16</td>\n",
       "      <td>1/8/16</td>\n",
       "      <td>1/30/16</td>\n",
       "      <td>Honda</td>\n",
       "      <td>Accord</td>\n",
       "      <td>2003.0</td>\n",
       "      <td>NaN</td>\n",
       "    </tr>\n",
       "    <tr>\n",
       "      <th>52333</th>\n",
       "      <td>52334</td>\n",
       "      <td>Strark</td>\n",
       "      <td>other</td>\n",
       "      <td>Organic</td>\n",
       "      <td>1/13/16</td>\n",
       "      <td>NaN</td>\n",
       "      <td>NaN</td>\n",
       "      <td>NaN</td>\n",
       "      <td>NaN</td>\n",
       "      <td>NaN</td>\n",
       "      <td>NaN</td>\n",
       "    </tr>\n",
       "  </tbody>\n",
       "</table>\n",
       "</div>"
      ],
      "text/plain": [
       "          id city_name signup_os signup_channel signup_date bgc_date  \\\n",
       "20421  20422    Strark   ios web        Organic     1/26/16      NaN   \n",
       "30142  30143    Strark     other           Paid     1/26/16      NaN   \n",
       "7815    7816    Strark       NaN       Referral      1/9/16      NaN   \n",
       "44770  44771    Strark     other       Referral     1/25/16  1/25/16   \n",
       "10924  10925    Strark       NaN        Organic      1/5/16  1/31/16   \n",
       "90        91    Strark       NaN       Referral     1/24/16   2/6/16   \n",
       "976      977    Berton   ios web       Referral     1/16/16      NaN   \n",
       "15065  15066    Berton   ios web       Referral     1/21/16  1/22/16   \n",
       "44257  44258    Strark   windows       Referral      1/7/16   1/8/16   \n",
       "52333  52334    Strark     other        Organic     1/13/16      NaN   \n",
       "\n",
       "      vehicle_added_date vehicle_make vehicle_model  vehicle_year  \\\n",
       "20421                NaN          NaN           NaN           NaN   \n",
       "30142                NaN          NaN           NaN           NaN   \n",
       "7815                 NaN          NaN           NaN           NaN   \n",
       "44770                NaN          NaN           NaN           NaN   \n",
       "10924                NaN          NaN           NaN           NaN   \n",
       "90                   NaN          NaN           NaN           NaN   \n",
       "976                  NaN          NaN           NaN           NaN   \n",
       "15065                NaN          NaN           NaN           NaN   \n",
       "44257            1/30/16        Honda        Accord        2003.0   \n",
       "52333                NaN          NaN           NaN           NaN   \n",
       "\n",
       "      first_completed_date  \n",
       "20421                  NaN  \n",
       "30142                  NaN  \n",
       "7815                   NaN  \n",
       "44770                  NaN  \n",
       "10924                  NaN  \n",
       "90                     NaN  \n",
       "976                    NaN  \n",
       "15065                  NaN  \n",
       "44257                  NaN  \n",
       "52333                  NaN  "
      ]
     },
     "execution_count": 3,
     "metadata": {},
     "output_type": "execute_result"
    }
   ],
   "source": [
    "data.sample(10)"
   ]
  },
  {
   "cell_type": "markdown",
   "id": "8981f355",
   "metadata": {},
   "source": [
    "## 2. Data Analysis and Preparation <a class=\"anchor\" id=\"dap\"></a>\n",
    "\n",
    "Before defining any model, it makes sense to explore the data a little more and find out what changes we need to apply to them before the dataset can be used as an input for a classification model. \n",
    "\n",
    "We can start by observing the dimensions of the DataFrame containing the data."
   ]
  },
  {
   "cell_type": "code",
   "execution_count": 4,
   "id": "eb34b980",
   "metadata": {},
   "outputs": [
    {
     "data": {
      "text/plain": [
       "(54681, 11)"
      ]
     },
     "execution_count": 4,
     "metadata": {},
     "output_type": "execute_result"
    }
   ],
   "source": [
    "data.shape"
   ]
  },
  {
   "cell_type": "markdown",
   "id": "3dedf617",
   "metadata": {},
   "source": [
    "The dataset has a 11 variables (columns) and a little over 50.000 instances (rows). But are all the instances unique or are there entire rows that are duplicated? "
   ]
  },
  {
   "cell_type": "code",
   "execution_count": 5,
   "id": "f305a31c",
   "metadata": {},
   "outputs": [
    {
     "data": {
      "text/plain": [
       "(54681, 11)"
      ]
     },
     "execution_count": 5,
     "metadata": {},
     "output_type": "execute_result"
    }
   ],
   "source": [
    "data = data.drop_duplicates()\n",
    "data.shape"
   ]
  },
  {
   "cell_type": "markdown",
   "id": "3ff14aed",
   "metadata": {},
   "source": [
    "After applying a function to remove the duplicated rows from the dataset, its size has not changed which implies that there were no duplicated rows in the original dataset.\n",
    "\n",
    "Next, we can take a look into the columns and the datatypes stored in them."
   ]
  },
  {
   "cell_type": "code",
   "execution_count": 6,
   "id": "200eaf5e",
   "metadata": {},
   "outputs": [
    {
     "data": {
      "text/plain": [
       "id                        int64\n",
       "city_name                object\n",
       "signup_os                object\n",
       "signup_channel           object\n",
       "signup_date              object\n",
       "bgc_date                 object\n",
       "vehicle_added_date       object\n",
       "vehicle_make             object\n",
       "vehicle_model            object\n",
       "vehicle_year            float64\n",
       "first_completed_date     object\n",
       "dtype: object"
      ]
     },
     "execution_count": 6,
     "metadata": {},
     "output_type": "execute_result"
    }
   ],
   "source": [
    "data.dtypes"
   ]
  },
  {
   "cell_type": "markdown",
   "id": "429d0cf7",
   "metadata": {},
   "source": [
    "A problem that we can see right away is that there are four columns that are supposed to contain dates (`signup_date`, `bgc_date`, `vehicle_added_date` and `first_completed_date`) but these are stored as strings. Looking at the sample of data above, we can see that the dates are in a format `M/DD/YY` - it is not a particurarly Python-friendly format. Therefore, let's force these columns to a datetime format before proceeding."
   ]
  },
  {
   "cell_type": "code",
   "execution_count": 7,
   "id": "02ab4fa8",
   "metadata": {},
   "outputs": [],
   "source": [
    "data['signup_date'] = pd.to_datetime(data['signup_date'])\n",
    "data['bgc_date'] = pd.to_datetime(data['bgc_date'])\n",
    "data['vehicle_added_date'] = pd.to_datetime(data['vehicle_added_date'])\n",
    "data['first_completed_date'] = pd.to_datetime(data['first_completed_date'])"
   ]
  },
  {
   "cell_type": "code",
   "execution_count": 8,
   "id": "8a8fcfc9",
   "metadata": {},
   "outputs": [
    {
     "name": "stdout",
     "output_type": "stream",
     "text": [
      "<class 'pandas.core.frame.DataFrame'>\n",
      "Int64Index: 54681 entries, 0 to 54680\n",
      "Data columns (total 11 columns):\n",
      " #   Column                Non-Null Count  Dtype         \n",
      "---  ------                --------------  -----         \n",
      " 0   id                    54681 non-null  int64         \n",
      " 1   city_name             54681 non-null  object        \n",
      " 2   signup_os             47824 non-null  object        \n",
      " 3   signup_channel        54681 non-null  object        \n",
      " 4   signup_date           54681 non-null  datetime64[ns]\n",
      " 5   bgc_date              32896 non-null  datetime64[ns]\n",
      " 6   vehicle_added_date    13134 non-null  datetime64[ns]\n",
      " 7   vehicle_make          13223 non-null  object        \n",
      " 8   vehicle_model         13223 non-null  object        \n",
      " 9   vehicle_year          13223 non-null  float64       \n",
      " 10  first_completed_date  6137 non-null   datetime64[ns]\n",
      "dtypes: datetime64[ns](4), float64(1), int64(1), object(5)\n",
      "memory usage: 5.0+ MB\n"
     ]
    }
   ],
   "source": [
    "data.info()"
   ]
  },
  {
   "cell_type": "markdown",
   "id": "2e474e20",
   "metadata": {},
   "source": [
    "Displaying the information about the DataFrame suggests that the values in the date-like columns have indeed been converted into a datetime type. \n",
    "\n",
    "Another potential issue that we may see is that some columns have many NULL values. It's not necessary to deal with this issue right now but we may need to resolve it before using the data in a model.\n",
    "\n",
    "---\n",
    "\n",
    "Now, let's explore further individual variables, starting with `city_name`"
   ]
  },
  {
   "cell_type": "code",
   "execution_count": 9,
   "id": "774ad76f",
   "metadata": {},
   "outputs": [
    {
     "name": "stdout",
     "output_type": "stream",
     "text": [
      "Strark     29557\n",
      "Berton     20117\n",
      "Wrouver     5007\n",
      "Name: city_name, dtype: int64\n"
     ]
    },
    {
     "data": {
      "image/png": "[encoded data removed]",
      "text/plain": [
       "<Figure size 432x288 with 1 Axes>"
      ]
     },
     "metadata": {
      "needs_background": "light"
     },
     "output_type": "display_data"
    }
   ],
   "source": [
    "print(data['city_name'].value_counts())\n",
    "\n",
    "data['city_name'].value_counts().plot.bar()\n",
    "plt.show()"
   ]
  },
  {
   "cell_type": "markdown",
   "id": "9301405c",
   "metadata": {},
   "source": [
    "The drivers sign-ups in the dataset come from three cities: Stark, Berton and Wrouver. However, the distribution of sign-ups in these cities in not uniform and so Stark has significantly more records than Berton and Wrouver.\n",
    "\n",
    "Next, let's take a look at `signup_os`:"
   ]
  },
  {
   "cell_type": "code",
   "execution_count": 10,
   "id": "06b65833",
   "metadata": {},
   "outputs": [
    {
     "name": "stdout",
     "output_type": "stream",
     "text": [
      "ios web        16632\n",
      "android web    14944\n",
      "windows         6776\n",
      "mac             5824\n",
      "other           3648\n",
      "Name: signup_os, dtype: int64\n"
     ]
    },
    {
     "data": {
      "image/png": "[encoded data removed]",
      "text/plain": [
       "<Figure size 432x288 with 1 Axes>"
      ]
     },
     "metadata": {
      "needs_background": "light"
     },
     "output_type": "display_data"
    }
   ],
   "source": [
    "print(data['signup_os'].value_counts())\n",
    "\n",
    "data['signup_os'].value_counts().plot.bar()\n",
    "plt.show()"
   ]
  },
  {
   "cell_type": "markdown",
   "id": "db98a8c2",
   "metadata": {},
   "source": [
    "This categorical variable represents which operating system was used by a driver when they were signing up with Uber. We can see that most of them used a mobile OS such as IOS or Android with significant, yet smaller number of drivers, using Windows or Mac systems. There are also 3648 sign-ups for which the operating system is marked as 'Other'.\n",
    "\n",
    "Are there any significant changes in these proportion when we take a look at different cities?"
   ]
  },
  {
   "cell_type": "code",
   "execution_count": 11,
   "id": "a3dabbd9",
   "metadata": {},
   "outputs": [
    {
     "data": {
      "text/html": [
       "<div>\n",
       "<style scoped>\n",
       "    .dataframe tbody tr th:only-of-type {\n",
       "        vertical-align: middle;\n",
       "    }\n",
       "\n",
       "    .dataframe tbody tr th {\n",
       "        vertical-align: top;\n",
       "    }\n",
       "\n",
       "    .dataframe thead th {\n",
       "        text-align: right;\n",
       "    }\n",
       "</style>\n",
       "<table border=\"1\" class=\"dataframe\">\n",
       "  <thead>\n",
       "    <tr style=\"text-align: right;\">\n",
       "      <th>signup_os</th>\n",
       "      <th>android web</th>\n",
       "      <th>ios web</th>\n",
       "      <th>mac</th>\n",
       "      <th>other</th>\n",
       "      <th>windows</th>\n",
       "    </tr>\n",
       "    <tr>\n",
       "      <th>city_name</th>\n",
       "      <th></th>\n",
       "      <th></th>\n",
       "      <th></th>\n",
       "      <th></th>\n",
       "      <th></th>\n",
       "    </tr>\n",
       "  </thead>\n",
       "  <tbody>\n",
       "    <tr>\n",
       "      <th>Berton</th>\n",
       "      <td>5157</td>\n",
       "      <td>6669</td>\n",
       "      <td>2308</td>\n",
       "      <td>1361</td>\n",
       "      <td>2611</td>\n",
       "    </tr>\n",
       "    <tr>\n",
       "      <th>Strark</th>\n",
       "      <td>8546</td>\n",
       "      <td>8405</td>\n",
       "      <td>2988</td>\n",
       "      <td>1759</td>\n",
       "      <td>3364</td>\n",
       "    </tr>\n",
       "    <tr>\n",
       "      <th>Wrouver</th>\n",
       "      <td>1241</td>\n",
       "      <td>1558</td>\n",
       "      <td>528</td>\n",
       "      <td>528</td>\n",
       "      <td>801</td>\n",
       "    </tr>\n",
       "  </tbody>\n",
       "</table>\n",
       "</div>"
      ],
      "text/plain": [
       "signup_os  android web  ios web   mac  other  windows\n",
       "city_name                                            \n",
       "Berton            5157     6669  2308   1361     2611\n",
       "Strark            8546     8405  2988   1759     3364\n",
       "Wrouver           1241     1558   528    528      801"
      ]
     },
     "execution_count": 11,
     "metadata": {},
     "output_type": "execute_result"
    }
   ],
   "source": [
    "cities_and_os = data.groupby(by=['city_name', 'signup_os']).size().unstack()\n",
    "cities_and_os"
   ]
  },
  {
   "cell_type": "code",
   "execution_count": 12,
   "id": "fa7c4752",
   "metadata": {},
   "outputs": [
    {
     "data": {
      "image/png": "[encoded data removed]",
      "text/plain": [
       "<Figure size 432x288 with 1 Axes>"
      ]
     },
     "metadata": {
      "needs_background": "light"
     },
     "output_type": "display_data"
    }
   ],
   "source": [
    "cities_and_os.plot.bar()\n",
    "plt.show()"
   ]
  },
  {
   "cell_type": "markdown",
   "id": "a7541301",
   "metadata": {},
   "source": [
    "The differences are there but are not large. For instance, most drivers in Stark signed up on an Android device while in other cities it's the IOS with the majority of sign-ups.\n",
    "\n",
    "What about the sign-up channel, represented by the variable `signup_channel`?"
   ]
  },
  {
   "cell_type": "code",
   "execution_count": 13,
   "id": "3a359cae",
   "metadata": {},
   "outputs": [
    {
     "name": "stdout",
     "output_type": "stream",
     "text": [
      "Paid        23938\n",
      "Referral    17316\n",
      "Organic     13427\n",
      "Name: signup_channel, dtype: int64\n"
     ]
    },
    {
     "data": {
      "image/png": "[encoded data removed]",
      "text/plain": [
       "<Figure size 432x288 with 1 Axes>"
      ]
     },
     "metadata": {
      "needs_background": "light"
     },
     "output_type": "display_data"
    }
   ],
   "source": [
    "print(data['signup_channel'].value_counts())\n",
    "\n",
    "data['signup_channel'].value_counts().plot.bar()\n",
    "plt.show()"
   ]
  },
  {
   "cell_type": "markdown",
   "id": "ae1afdb7",
   "metadata": {},
   "source": [
    "This variable takes 3 values: Paid, Referral and Organic. There is no clear definition of these three channels but we can assume that this explains in what way drivers were directed towards the sign-up. Again, the distribution of sign-ups across different channels in not uniform - some channels have more sign-ups than the others."
   ]
  },
  {
   "cell_type": "code",
   "execution_count": 14,
   "id": "e20465d9",
   "metadata": {},
   "outputs": [
    {
     "data": {
      "text/html": [
       "<div>\n",
       "<style scoped>\n",
       "    .dataframe tbody tr th:only-of-type {\n",
       "        vertical-align: middle;\n",
       "    }\n",
       "\n",
       "    .dataframe tbody tr th {\n",
       "        vertical-align: top;\n",
       "    }\n",
       "\n",
       "    .dataframe thead th {\n",
       "        text-align: right;\n",
       "    }\n",
       "</style>\n",
       "<table border=\"1\" class=\"dataframe\">\n",
       "  <thead>\n",
       "    <tr style=\"text-align: right;\">\n",
       "      <th>signup_channel</th>\n",
       "      <th>Organic</th>\n",
       "      <th>Paid</th>\n",
       "      <th>Referral</th>\n",
       "    </tr>\n",
       "    <tr>\n",
       "      <th>city_name</th>\n",
       "      <th></th>\n",
       "      <th></th>\n",
       "      <th></th>\n",
       "    </tr>\n",
       "  </thead>\n",
       "  <tbody>\n",
       "    <tr>\n",
       "      <th>Berton</th>\n",
       "      <td>4841</td>\n",
       "      <td>8741</td>\n",
       "      <td>6535</td>\n",
       "    </tr>\n",
       "    <tr>\n",
       "      <th>Strark</th>\n",
       "      <td>7283</td>\n",
       "      <td>12407</td>\n",
       "      <td>9867</td>\n",
       "    </tr>\n",
       "    <tr>\n",
       "      <th>Wrouver</th>\n",
       "      <td>1303</td>\n",
       "      <td>2790</td>\n",
       "      <td>914</td>\n",
       "    </tr>\n",
       "  </tbody>\n",
       "</table>\n",
       "</div>"
      ],
      "text/plain": [
       "signup_channel  Organic   Paid  Referral\n",
       "city_name                               \n",
       "Berton             4841   8741      6535\n",
       "Strark             7283  12407      9867\n",
       "Wrouver            1303   2790       914"
      ]
     },
     "execution_count": 14,
     "metadata": {},
     "output_type": "execute_result"
    }
   ],
   "source": [
    "cities_and_channels = data.groupby(by=['city_name', 'signup_channel']).size().unstack()\n",
    "cities_and_channels"
   ]
  },
  {
   "cell_type": "code",
   "execution_count": 15,
   "id": "39f88009",
   "metadata": {},
   "outputs": [
    {
     "data": {
      "image/png": "[encoded data removed]",
      "text/plain": [
       "<Figure size 432x288 with 1 Axes>"
      ]
     },
     "metadata": {
      "needs_background": "light"
     },
     "output_type": "display_data"
    }
   ],
   "source": [
    "cities_and_channels.plot.bar()\n",
    "plt.show()"
   ]
  },
  {
   "cell_type": "markdown",
   "id": "f2b4d968",
   "metadata": {},
   "source": [
    "The proportion of sign-up channels is similar in all three cities with a small exception that in Wrouver the 'Organic' sign-ups are more common than the 'Referral' ones.\n",
    "\n",
    "---\n",
    "\n",
    "Now, let's take a closer look at the date-like columns, starting with observing a range of dates in each of them."
   ]
  },
  {
   "cell_type": "code",
   "execution_count": 16,
   "id": "15d32b66",
   "metadata": {},
   "outputs": [
    {
     "name": "stdout",
     "output_type": "stream",
     "text": [
      "Sign-up date:\n",
      "Min: 2016-01-01  |  Max: 2016-01-30\n",
      "Background check date:\n",
      "Min: 2016-01-01  |  Max: 2016-03-25\n",
      "Vehicle added date:\n",
      "Min: 2016-01-01  |  Max: 2016-03-26\n",
      "First trip date:\n",
      "Min: 2016-01-04  |  Max: 2016-02-29\n"
     ]
    }
   ],
   "source": [
    "print('Sign-up date:')\n",
    "print('Min:', data['signup_date'].min().date(), ' |  Max:', data['signup_date'].max().date())\n",
    "print('Background check date:')\n",
    "print('Min:', data['bgc_date'].min().date(), ' |  Max:', data['bgc_date'].max().date())\n",
    "print('Vehicle added date:')\n",
    "print('Min:', data['vehicle_added_date'].min().date(), ' |  Max:', data['vehicle_added_date'].max().date())\n",
    "print('First trip date:')\n",
    "print('Min:', data['first_completed_date'].min().date(), ' |  Max:', data['first_completed_date'].max().date())"
   ]
  },
  {
   "cell_type": "markdown",
   "id": "08efb6b1",
   "metadata": {},
   "source": [
    "We were informed that the data concern a January 2016 cohort of drivers and this checks out - all the drivers in the dataset signed up between January 1st and 30th, 2016. However, the dates concerning their further steps in the company (background check, adding a vehicle and starting driving) typically happen after a sign-up. Therefore, the other dates spread into the other months and there are drivers who signed-up in January but, for example, added a vehicle on March 26th, 2016.\n",
    "\n",
    "Since the sign-up dates come from a single month, we can quickly generate a histogram of many sign-ups happened on each day using the day of the month extracted from the date:"
   ]
  },
  {
   "cell_type": "code",
   "execution_count": 17,
   "id": "81ccc13e",
   "metadata": {},
   "outputs": [
    {
     "data": {
      "image/png": "[encoded data removed]",
      "text/plain": [
       "<Figure size 432x288 with 1 Axes>"
      ]
     },
     "metadata": {
      "needs_background": "light"
     },
     "output_type": "display_data"
    }
   ],
   "source": [
    "data['signup_date'].dt.day.plot.hist(bins=30)\n",
    "plt.show()"
   ]
  },
  {
   "cell_type": "markdown",
   "id": "ffe32f79",
   "metadata": {},
   "source": [
    "We can see that there were generally more sign-ups in the first days of the month than in the last ones. Especially, the first 7 or so days have seen many sign-ups. The numbers are also not spread uniformly and seem to show some kind of weekly patterns.\n",
    "\n",
    "For the other dates, let's approach it differently. We can calculate how many days after the sign-up each driver had the background check, added a vehicle and started driving, and we can observe the distributions of these values."
   ]
  },
  {
   "cell_type": "code",
   "execution_count": 18,
   "id": "fa698d36",
   "metadata": {
    "scrolled": true
   },
   "outputs": [
    {
     "data": {
      "image/png": "[encoded data removed]",
      "text/plain": [
       "<Figure size 432x288 with 1 Axes>"
      ]
     },
     "metadata": {
      "needs_background": "light"
     },
     "output_type": "display_data"
    },
    {
     "name": "stdout",
     "output_type": "stream",
     "text": [
      "Total background checks: 32896\n"
     ]
    },
    {
     "data": {
      "image/png": "[encoded data removed]",
      "text/plain": [
       "<Figure size 432x288 with 1 Axes>"
      ]
     },
     "metadata": {
      "needs_background": "light"
     },
     "output_type": "display_data"
    },
    {
     "name": "stdout",
     "output_type": "stream",
     "text": [
      "Total vehicles added: 13134\n"
     ]
    },
    {
     "data": {
      "image/png": "[encoded data removed]",
      "text/plain": [
       "<Figure size 432x288 with 1 Axes>"
      ]
     },
     "metadata": {
      "needs_background": "light"
     },
     "output_type": "display_data"
    },
    {
     "name": "stdout",
     "output_type": "stream",
     "text": [
      "Total first trips: 6137\n"
     ]
    }
   ],
   "source": [
    "diff_signup_bgc = data['bgc_date'] - data['signup_date']\n",
    "diff_signup_bgc = diff_signup_bgc.dropna()\n",
    "diff_signup_bgc.dt.days.plot.hist(bins=diff_signup_bgc.dt.days.max())\n",
    "plt.show()\n",
    "print('Total background checks:', diff_signup_bgc.shape[0])\n",
    "\n",
    "diff_signup_vehicle = data['vehicle_added_date'] - data['signup_date']\n",
    "diff_signup_vehicle = diff_signup_vehicle.dropna()\n",
    "diff_signup_vehicle.dt.days.plot.hist(bins=diff_signup_vehicle.dt.days.max())\n",
    "plt.show()\n",
    "print('Total vehicles added:', diff_signup_vehicle.shape[0])\n",
    "\n",
    "diff_signup_trip = data['first_completed_date'] - data['signup_date']\n",
    "diff_signup_trip = diff_signup_trip.dropna()\n",
    "diff_signup_trip.dt.days.plot.hist(bins=diff_signup_trip.dt.days.max())\n",
    "plt.show()\n",
    "print('Total first trips:', diff_signup_trip.shape[0])"
   ]
  },
  {
   "cell_type": "markdown",
   "id": "a38fbbc6",
   "metadata": {},
   "source": [
    "There are two main findings we can make here. The first is that the distributions look largely different for the different events. Both background check and adding the vehicle distributions are largely skewed to the left. In other words, the majority of drivers have both events right after the sign-up and the more days ellapse, the less drivers complete the background check or add a vehicle. However, there seems to be an anomaly with adding the vehicle, there are sudden spikes in the number of drivers who complete this step starting on the 11th day after the sign-up and then occuring every 15 days. This could be explained, for exmample by Uber sending e-mail reminders on a given number of days after a sign-up reminding the drivers to add a vehicle and that's why many drivers complete this step at the same time.\n",
    "\n",
    "At the same time, the distribution of delay to making the first trip from a sign-up is largely different from the other two. First, most drivers seem to wait approximately one week from the sign-up before making the first trip. Then, the more days ellapse, the less drivers make their first trip but this number is not decreasing fast. A significant proportions of drivers complete their trip even 30 days after they sign up. At the same time, 30 days in the longest delay - we don't know if this is by chance or if, for example, after 30 days without a trip, Uber considers an account inactive and switches it off.\n",
    "\n",
    "The other finding is that the number of drivers who complete the next steps decreases. Out of 54.681 sign-ups in the dataset, only 6137 drivers complete their first trip. The manner in which the numbers decrease also suggests a certain pipeline or a logical ordering of these events: first is a sign up, then drivers complete a background check, then they add a vehicle and then make the first trip. At each step, at the same time, there is a significant churn of sign-ups. Let's further investicate this pipeline as this is the core of this analysis."
   ]
  },
  {
   "cell_type": "code",
   "execution_count": 19,
   "id": "3150ce41",
   "metadata": {},
   "outputs": [
    {
     "data": {
      "image/png": "[encoded data removed]",
      "text/plain": [
       "<Figure size 432x288 with 1 Axes>"
      ]
     },
     "metadata": {
      "needs_background": "light"
     },
     "output_type": "display_data"
    },
    {
     "name": "stdout",
     "output_type": "stream",
     "text": [
      "Sign-ups who started driving: 11.22 %\n",
      "Drivers with BGC who started driving: 18.66 %\n",
      "Drivers who added vehicle that started driving: 46.73 %\n"
     ]
    }
   ],
   "source": [
    "all_signups = data['signup_date'].dropna().shape[0]\n",
    "n_bgc = diff_signup_bgc.shape[0]\n",
    "n_vehicle = diff_signup_vehicle.shape[0]\n",
    "n_trip = diff_signup_trip.shape[0]\n",
    "\n",
    "plt.bar(['signed_up', 'had_bgc', 'added_vehicle', 'made_trip'], height=[all_signups, n_bgc, n_vehicle, n_trip])\n",
    "plt.show()\n",
    "\n",
    "print('Sign-ups who started driving:', round(n_trip / all_signups * 100, 2), '%')\n",
    "print('Drivers with BGC who started driving:', round(n_trip / n_bgc * 100, 2), '%')\n",
    "print('Drivers who added vehicle that started driving:', round(n_trip / n_vehicle * 100, 2), '%')"
   ]
  },
  {
   "cell_type": "markdown",
   "id": "f70de244",
   "metadata": {},
   "source": [
    "Slightly more than a half of sign-ups complete their background checks but, out of those, less than half actually add a vehicle and even less (18.66%) start driving. All in all, only 11.22% of drivers who sign up end up having a first trip. At the same time, almost half of the drivers who add a vehicle, end up completing a first trip.\n",
    "\n",
    "But this pipeline and the fact that in order to move on to the next event, a driver must complete a previous one, is still only our assumption. So let's verify if this assumption is correct."
   ]
  },
  {
   "cell_type": "code",
   "execution_count": 20,
   "id": "40ff3eb2",
   "metadata": {},
   "outputs": [
    {
     "name": "stdout",
     "output_type": "stream",
     "text": [
      "Drivers who made first trip but have no sign-up date:\n",
      "0\n",
      "Drivers who made first trip but have no BGC date:\n",
      "0\n",
      "Drivers who made first trip but have no vehicle added date:\n",
      "265\n"
     ]
    }
   ],
   "source": [
    "print('Drivers who made first trip but have no sign-up date:')\n",
    "print(data[~(data['first_completed_date'].isna()) & data['signup_date'].isna()].shape[0])\n",
    "print('Drivers who made first trip but have no BGC date:')\n",
    "print(data[~(data['first_completed_date'].isna()) & data['bgc_date'].isna()].shape[0])\n",
    "print('Drivers who made first trip but have no vehicle added date:')\n",
    "print(data[~(data['first_completed_date'].isna()) & data['vehicle_added_date'].isna()].shape[0])"
   ]
  },
  {
   "cell_type": "markdown",
   "id": "ea211855",
   "metadata": {},
   "source": [
    "It seems that indeed, all drivers who completed their first trip have signed up and completed a background check so these are likely compulsory steps. However, it seems that it is possible to complete a first trip without adding a vehicle, however, this situation only concerns 4% of drivers who start driving.\n",
    "\n",
    "---\n",
    "\n",
    "Now, let's also take a look at the data about the type of vehicle:"
   ]
  },
  {
   "cell_type": "code",
   "execution_count": 21,
   "id": "6fa88a77",
   "metadata": {},
   "outputs": [
    {
     "name": "stdout",
     "output_type": "stream",
     "text": [
      "Number of unique makes: 46\n",
      "Number of unique models: 368\n",
      "Average number of models per make: 8.02\n"
     ]
    }
   ],
   "source": [
    "print('Number of unique makes:', data['vehicle_make'].value_counts().shape[0])\n",
    "print('Number of unique models:', data['vehicle_model'].value_counts().shape[0])\n",
    "print('Average number of models per make:', round(data.groupby('vehicle_make').nunique()['vehicle_model'].mean(), 2))"
   ]
  },
  {
   "cell_type": "code",
   "execution_count": 22,
   "id": "b78694b5",
   "metadata": {
    "scrolled": true
   },
   "outputs": [
    {
     "data": {
      "text/html": [
       "<div>\n",
       "<style scoped>\n",
       "    .dataframe tbody tr th:only-of-type {\n",
       "        vertical-align: middle;\n",
       "    }\n",
       "\n",
       "    .dataframe tbody tr th {\n",
       "        vertical-align: top;\n",
       "    }\n",
       "\n",
       "    .dataframe thead th {\n",
       "        text-align: right;\n",
       "    }\n",
       "</style>\n",
       "<table border=\"1\" class=\"dataframe\">\n",
       "  <thead>\n",
       "    <tr style=\"text-align: right;\">\n",
       "      <th></th>\n",
       "      <th>frequency</th>\n",
       "      <th>n_models</th>\n",
       "    </tr>\n",
       "    <tr>\n",
       "      <th>vehicle_make</th>\n",
       "      <th></th>\n",
       "      <th></th>\n",
       "    </tr>\n",
       "  </thead>\n",
       "  <tbody>\n",
       "    <tr>\n",
       "      <th>Toyota</th>\n",
       "      <td>3219</td>\n",
       "      <td>21</td>\n",
       "    </tr>\n",
       "    <tr>\n",
       "      <th>Honda</th>\n",
       "      <td>1845</td>\n",
       "      <td>13</td>\n",
       "    </tr>\n",
       "    <tr>\n",
       "      <th>Nissan</th>\n",
       "      <td>1311</td>\n",
       "      <td>16</td>\n",
       "    </tr>\n",
       "    <tr>\n",
       "      <th>Ford</th>\n",
       "      <td>778</td>\n",
       "      <td>26</td>\n",
       "    </tr>\n",
       "    <tr>\n",
       "      <th>Hyundai</th>\n",
       "      <td>677</td>\n",
       "      <td>13</td>\n",
       "    </tr>\n",
       "    <tr>\n",
       "      <th>Chevrolet</th>\n",
       "      <td>665</td>\n",
       "      <td>30</td>\n",
       "    </tr>\n",
       "    <tr>\n",
       "      <th>Kia</th>\n",
       "      <td>584</td>\n",
       "      <td>13</td>\n",
       "    </tr>\n",
       "    <tr>\n",
       "      <th>Volkswagen</th>\n",
       "      <td>503</td>\n",
       "      <td>14</td>\n",
       "    </tr>\n",
       "    <tr>\n",
       "      <th>Dodge</th>\n",
       "      <td>393</td>\n",
       "      <td>15</td>\n",
       "    </tr>\n",
       "    <tr>\n",
       "      <th>Mercedes-Benz</th>\n",
       "      <td>348</td>\n",
       "      <td>14</td>\n",
       "    </tr>\n",
       "    <tr>\n",
       "      <th>Lexus</th>\n",
       "      <td>335</td>\n",
       "      <td>12</td>\n",
       "    </tr>\n",
       "    <tr>\n",
       "      <th>BMW</th>\n",
       "      <td>330</td>\n",
       "      <td>10</td>\n",
       "    </tr>\n",
       "    <tr>\n",
       "      <th>Mazda</th>\n",
       "      <td>292</td>\n",
       "      <td>10</td>\n",
       "    </tr>\n",
       "    <tr>\n",
       "      <th>Subaru</th>\n",
       "      <td>221</td>\n",
       "      <td>8</td>\n",
       "    </tr>\n",
       "    <tr>\n",
       "      <th>Jeep</th>\n",
       "      <td>203</td>\n",
       "      <td>8</td>\n",
       "    </tr>\n",
       "    <tr>\n",
       "      <th>Chrysler</th>\n",
       "      <td>202</td>\n",
       "      <td>9</td>\n",
       "    </tr>\n",
       "    <tr>\n",
       "      <th>Acura</th>\n",
       "      <td>190</td>\n",
       "      <td>9</td>\n",
       "    </tr>\n",
       "    <tr>\n",
       "      <th>Scion</th>\n",
       "      <td>164</td>\n",
       "      <td>7</td>\n",
       "    </tr>\n",
       "    <tr>\n",
       "      <th>Infiniti</th>\n",
       "      <td>147</td>\n",
       "      <td>13</td>\n",
       "    </tr>\n",
       "    <tr>\n",
       "      <th>Audi</th>\n",
       "      <td>144</td>\n",
       "      <td>9</td>\n",
       "    </tr>\n",
       "    <tr>\n",
       "      <th>Mitsubishi</th>\n",
       "      <td>113</td>\n",
       "      <td>6</td>\n",
       "    </tr>\n",
       "    <tr>\n",
       "      <th>GMC</th>\n",
       "      <td>89</td>\n",
       "      <td>8</td>\n",
       "    </tr>\n",
       "    <tr>\n",
       "      <th>Cadillac</th>\n",
       "      <td>86</td>\n",
       "      <td>8</td>\n",
       "    </tr>\n",
       "    <tr>\n",
       "      <th>Lincoln</th>\n",
       "      <td>70</td>\n",
       "      <td>10</td>\n",
       "    </tr>\n",
       "    <tr>\n",
       "      <th>Volvo</th>\n",
       "      <td>57</td>\n",
       "      <td>8</td>\n",
       "    </tr>\n",
       "    <tr>\n",
       "      <th>Buick</th>\n",
       "      <td>46</td>\n",
       "      <td>10</td>\n",
       "    </tr>\n",
       "    <tr>\n",
       "      <th>Saturn</th>\n",
       "      <td>30</td>\n",
       "      <td>7</td>\n",
       "    </tr>\n",
       "    <tr>\n",
       "      <th>Pontiac</th>\n",
       "      <td>30</td>\n",
       "      <td>6</td>\n",
       "    </tr>\n",
       "    <tr>\n",
       "      <th>Mini</th>\n",
       "      <td>20</td>\n",
       "      <td>3</td>\n",
       "    </tr>\n",
       "    <tr>\n",
       "      <th>Land Rover</th>\n",
       "      <td>20</td>\n",
       "      <td>3</td>\n",
       "    </tr>\n",
       "    <tr>\n",
       "      <th>Jaguar</th>\n",
       "      <td>15</td>\n",
       "      <td>4</td>\n",
       "    </tr>\n",
       "    <tr>\n",
       "      <th>Tesla</th>\n",
       "      <td>13</td>\n",
       "      <td>1</td>\n",
       "    </tr>\n",
       "    <tr>\n",
       "      <th>Suzuki</th>\n",
       "      <td>12</td>\n",
       "      <td>6</td>\n",
       "    </tr>\n",
       "    <tr>\n",
       "      <th>Fiat</th>\n",
       "      <td>11</td>\n",
       "      <td>2</td>\n",
       "    </tr>\n",
       "    <tr>\n",
       "      <th>Porsche</th>\n",
       "      <td>10</td>\n",
       "      <td>1</td>\n",
       "    </tr>\n",
       "    <tr>\n",
       "      <th>Mercury</th>\n",
       "      <td>9</td>\n",
       "      <td>4</td>\n",
       "    </tr>\n",
       "    <tr>\n",
       "      <th>Autobot</th>\n",
       "      <td>8</td>\n",
       "      <td>1</td>\n",
       "    </tr>\n",
       "    <tr>\n",
       "      <th>Saab</th>\n",
       "      <td>7</td>\n",
       "      <td>2</td>\n",
       "    </tr>\n",
       "    <tr>\n",
       "      <th>Hummer</th>\n",
       "      <td>7</td>\n",
       "      <td>2</td>\n",
       "    </tr>\n",
       "    <tr>\n",
       "      <th>Bike</th>\n",
       "      <td>6</td>\n",
       "      <td>1</td>\n",
       "    </tr>\n",
       "    <tr>\n",
       "      <th>Bicycle</th>\n",
       "      <td>5</td>\n",
       "      <td>1</td>\n",
       "    </tr>\n",
       "    <tr>\n",
       "      <th>Maserati</th>\n",
       "      <td>2</td>\n",
       "      <td>1</td>\n",
       "    </tr>\n",
       "    <tr>\n",
       "      <th>Isuzu</th>\n",
       "      <td>2</td>\n",
       "      <td>1</td>\n",
       "    </tr>\n",
       "    <tr>\n",
       "      <th>Bentley</th>\n",
       "      <td>2</td>\n",
       "      <td>1</td>\n",
       "    </tr>\n",
       "    <tr>\n",
       "      <th>Oldsmobile</th>\n",
       "      <td>1</td>\n",
       "      <td>1</td>\n",
       "    </tr>\n",
       "    <tr>\n",
       "      <th>Walker</th>\n",
       "      <td>1</td>\n",
       "      <td>1</td>\n",
       "    </tr>\n",
       "  </tbody>\n",
       "</table>\n",
       "</div>"
      ],
      "text/plain": [
       "               frequency  n_models\n",
       "vehicle_make                      \n",
       "Toyota              3219        21\n",
       "Honda               1845        13\n",
       "Nissan              1311        16\n",
       "Ford                 778        26\n",
       "Hyundai              677        13\n",
       "Chevrolet            665        30\n",
       "Kia                  584        13\n",
       "Volkswagen           503        14\n",
       "Dodge                393        15\n",
       "Mercedes-Benz        348        14\n",
       "Lexus                335        12\n",
       "BMW                  330        10\n",
       "Mazda                292        10\n",
       "Subaru               221         8\n",
       "Jeep                 203         8\n",
       "Chrysler             202         9\n",
       "Acura                190         9\n",
       "Scion                164         7\n",
       "Infiniti             147        13\n",
       "Audi                 144         9\n",
       "Mitsubishi           113         6\n",
       "GMC                   89         8\n",
       "Cadillac              86         8\n",
       "Lincoln               70        10\n",
       "Volvo                 57         8\n",
       "Buick                 46        10\n",
       "Saturn                30         7\n",
       "Pontiac               30         6\n",
       "Mini                  20         3\n",
       "Land Rover            20         3\n",
       "Jaguar                15         4\n",
       "Tesla                 13         1\n",
       "Suzuki                12         6\n",
       "Fiat                  11         2\n",
       "Porsche               10         1\n",
       "Mercury                9         4\n",
       "Autobot                8         1\n",
       "Saab                   7         2\n",
       "Hummer                 7         2\n",
       "Bike                   6         1\n",
       "Bicycle                5         1\n",
       "Maserati               2         1\n",
       "Isuzu                  2         1\n",
       "Bentley                2         1\n",
       "Oldsmobile             1         1\n",
       "Walker                 1         1"
      ]
     },
     "execution_count": 22,
     "metadata": {},
     "output_type": "execute_result"
    }
   ],
   "source": [
    "data.groupby('vehicle_make')['vehicle_model'].agg(['count', 'nunique']).sort_values(by='count', ascending=False).rename(columns={'count': 'frequency', 'nunique': 'n_models'})"
   ]
  },
  {
   "cell_type": "markdown",
   "id": "90e50ee5",
   "metadata": {},
   "source": [
    "This doesn't provide us with much insight except of the fact that there is quite a high variation in vehicle makes and models, and that these categorical variables take on many unique values.\n",
    "\n",
    "We can also plot the distribution of the year of the drivers' vehicles:"
   ]
  },
  {
   "cell_type": "code",
   "execution_count": 23,
   "id": "6711f792",
   "metadata": {},
   "outputs": [
    {
     "data": {
      "image/png": "[encoded data removed]",
      "text/plain": [
       "<Figure size 432x288 with 1 Axes>"
      ]
     },
     "metadata": {
      "needs_background": "light"
     },
     "output_type": "display_data"
    }
   ],
   "source": [
    "data.groupby('vehicle_year').size().plot.bar()\n",
    "plt.show()"
   ]
  },
  {
   "cell_type": "markdown",
   "id": "dad56701",
   "metadata": {},
   "source": [
    "## 3. Features Engineering <a class=\"anchor\" id=\"fe\"></a>\n",
    "\n",
    "After completing the data analysis, we can move closer to the modeling task by defining and processing the features. Currently, we have a mix of numbers, dates, strings and NULL values in the dataset but for the model we only want numerical features. Fortunately, we can extract numerical features from the current variables.\n",
    "\n",
    "### 3.1. Target Variable <a class=\"anchor\" id=\"tv\"></a>\n",
    "\n",
    "**discussion about what is the target**\n",
    "\n",
    "First, we need to extract the most important - the target variable that our model will need to predict. We want to predict if a sign-up will start driving. This is a binary classification task and so our target variable will be a Boolean indicating whether, for a given sign-up, there exists a date of the first trip. Since we need to the variable to be numerical, the Boolean will take the values (0, 1) instead of (False, True)."
   ]
  },
  {
   "cell_type": "code",
   "execution_count": 24,
   "id": "469a8430",
   "metadata": {},
   "outputs": [],
   "source": [
    "# Get the Boolean if the date exists\n",
    "data['starts_driving'] = ~(data['first_completed_date'].isna())\n",
    "# Map the True/False values to (1,0)\n",
    "data['starts_driving'] = data['starts_driving'].astype(int)"
   ]
  },
  {
   "cell_type": "markdown",
   "id": "63138192",
   "metadata": {},
   "source": [
    "### 3.2.  Features Extraction <a class=\"anchor\" id=\"fe2\"></a>\n",
    "\n",
    "#### Dates\n",
    "\n",
    "Next, we can extract the actual features or the input variables. First, we can use the fact that all sign-up dates are from the same month and simply extract the day of the month as a feature. After all the information about the month and year is the same in all rows in this case so we can easily skip it. Additionally, since we saw what could've been weekly patterns, we can extract a weekday number from the same date and use it as additional feature."
   ]
  },
  {
   "cell_type": "code",
   "execution_count": 25,
   "id": "e5a8591c",
   "metadata": {},
   "outputs": [],
   "source": [
    "data['signup_day'] = data['signup_date'].dt.day\n",
    "data['signup_weekday'] = data['signup_date'].dt.weekday "
   ]
  },
  {
   "cell_type": "markdown",
   "id": "66a6b429",
   "metadata": {},
   "source": [
    "For the other dates, since these aren't necessarily from the same month, we can use another approach and, similar to what we have done in the data analysis, extract the delay, in days between different dates. We will have the number of days ellapsed from the sign-up until background check, from sign-up to adding a vehicle and from beckground check to adding a vehicle.\n",
    "\n",
    "Apart from this, we can also add Boolean variables, again in a (0,1) format, indicating if a driver even has completed a given step such as the background check or adding a vehicle."
   ]
  },
  {
   "cell_type": "code",
   "execution_count": 26,
   "id": "a52f9074",
   "metadata": {},
   "outputs": [],
   "source": [
    "data['had_bgc'] = ~(data['bgc_date'].isna())\n",
    "data['had_bgc'] = data['had_bgc'].astype(int)\n",
    "data['bgc_delay'] = (data['first_completed_date'] - data['signup_date']).dt.days\n",
    "\n",
    "data['added_vehicle'] = ~(data['vehicle_added_date'].isna())\n",
    "data['added_vehicle'] = data['added_vehicle'].astype(int)\n",
    "data['vehicle_delay_signup'] = (data['vehicle_added_date'] - data['signup_date']).dt.days\n",
    "data['vehicle_delay_bgc'] = (data['vehicle_added_date'] - data['bgc_date']).dt.days"
   ]
  },
  {
   "cell_type": "markdown",
   "id": "792b61ba",
   "metadata": {},
   "source": [
    "The issue with the variables based on the days ellapsed between events is that when either date is not in the dataset, the resulting difference is also a NULL value. For the model, however, we shouldn't have these. We also don't want to remove all these rows and it's quite important if some drivers didn't complete some other steps of the process.\n",
    "\n",
    "One solution is to replace these NULL values with some numeric values. We can, for example, imagine that if a driver hasn't completed a background check or added a vehicle, it's possible that they actually did it so late that it's not captured in the dataset. Using this logic, it wouldn't be far-fetched if we replace the NULL values with some arbitrary high value, higher than the highest delay captured in the dataset, e.g. 100 days. Hopefully, in combination with the Boolean variables that indicate whether the date even exists in the data, our model will be able to deal with such an approach. "
   ]
  },
  {
   "cell_type": "code",
   "execution_count": 27,
   "id": "28ab83fc",
   "metadata": {},
   "outputs": [],
   "source": [
    "data['bgc_delay'] = data['bgc_delay'].fillna(100)\n",
    "data['vehicle_delay_signup'] = data['vehicle_delay_signup'].fillna(100)\n",
    "data['vehicle_delay_bgc'] = data['vehicle_delay_bgc'].fillna(100)"
   ]
  },
  {
   "cell_type": "markdown",
   "id": "cc2b91b2",
   "metadata": {},
   "source": [
    "#### Categorical features\n",
    "\n",
    "Now, we can move on to the categorical data, i.e. the ones with text or strings. There are, essentially, two main approaches when it comes to converting categorical variables to numerical features. We could assign a number for each distinct value that a feature takes. This however, would create numerical spectra without the coverage in the real world. For instance, if we assign values 1, 2 and 3 to our three city names, this would imply that the city that gets value 2 is somehow in between the other cities. This, in turn, could reduce the accuracy of linear models.\n",
    "\n",
    "Therefore, I will use the other approach that involves converting the categorical features into so-called dummy variables. What this means in practice is that for each unique value from a categorical variable, we will add a new Boolean variable indicating whether a row has this very value of a categorical variable or not. In Pandas, this can be achieved quickly using the `get_dummies()` function."
   ]
  },
  {
   "cell_type": "code",
   "execution_count": 28,
   "id": "12baaa24",
   "metadata": {
    "scrolled": false
   },
   "outputs": [
    {
     "data": {
      "text/html": [
       "<div>\n",
       "<style scoped>\n",
       "    .dataframe tbody tr th:only-of-type {\n",
       "        vertical-align: middle;\n",
       "    }\n",
       "\n",
       "    .dataframe tbody tr th {\n",
       "        vertical-align: top;\n",
       "    }\n",
       "\n",
       "    .dataframe thead th {\n",
       "        text-align: right;\n",
       "    }\n",
       "</style>\n",
       "<table border=\"1\" class=\"dataframe\">\n",
       "  <thead>\n",
       "    <tr style=\"text-align: right;\">\n",
       "      <th></th>\n",
       "      <th>id</th>\n",
       "      <th>city_name</th>\n",
       "      <th>signup_os</th>\n",
       "      <th>signup_channel</th>\n",
       "      <th>signup_date</th>\n",
       "      <th>bgc_date</th>\n",
       "      <th>vehicle_added_date</th>\n",
       "      <th>vehicle_make</th>\n",
       "      <th>vehicle_model</th>\n",
       "      <th>vehicle_year</th>\n",
       "      <th>...</th>\n",
       "      <th>Strark</th>\n",
       "      <th>Wrouver</th>\n",
       "      <th>Organic</th>\n",
       "      <th>Paid</th>\n",
       "      <th>Referral</th>\n",
       "      <th>android web</th>\n",
       "      <th>ios web</th>\n",
       "      <th>mac</th>\n",
       "      <th>other</th>\n",
       "      <th>windows</th>\n",
       "    </tr>\n",
       "  </thead>\n",
       "  <tbody>\n",
       "    <tr>\n",
       "      <th>0</th>\n",
       "      <td>1</td>\n",
       "      <td>Strark</td>\n",
       "      <td>ios web</td>\n",
       "      <td>Paid</td>\n",
       "      <td>2016-01-02</td>\n",
       "      <td>NaT</td>\n",
       "      <td>NaT</td>\n",
       "      <td>NaN</td>\n",
       "      <td>NaN</td>\n",
       "      <td>NaN</td>\n",
       "      <td>...</td>\n",
       "      <td>1</td>\n",
       "      <td>0</td>\n",
       "      <td>0</td>\n",
       "      <td>1</td>\n",
       "      <td>0</td>\n",
       "      <td>0</td>\n",
       "      <td>1</td>\n",
       "      <td>0</td>\n",
       "      <td>0</td>\n",
       "      <td>0</td>\n",
       "    </tr>\n",
       "    <tr>\n",
       "      <th>1</th>\n",
       "      <td>2</td>\n",
       "      <td>Strark</td>\n",
       "      <td>windows</td>\n",
       "      <td>Paid</td>\n",
       "      <td>2016-01-21</td>\n",
       "      <td>NaT</td>\n",
       "      <td>NaT</td>\n",
       "      <td>NaN</td>\n",
       "      <td>NaN</td>\n",
       "      <td>NaN</td>\n",
       "      <td>...</td>\n",
       "      <td>1</td>\n",
       "      <td>0</td>\n",
       "      <td>0</td>\n",
       "      <td>1</td>\n",
       "      <td>0</td>\n",
       "      <td>0</td>\n",
       "      <td>0</td>\n",
       "      <td>0</td>\n",
       "      <td>0</td>\n",
       "      <td>1</td>\n",
       "    </tr>\n",
       "    <tr>\n",
       "      <th>2</th>\n",
       "      <td>3</td>\n",
       "      <td>Wrouver</td>\n",
       "      <td>windows</td>\n",
       "      <td>Organic</td>\n",
       "      <td>2016-01-11</td>\n",
       "      <td>2016-01-11</td>\n",
       "      <td>NaT</td>\n",
       "      <td>NaN</td>\n",
       "      <td>NaN</td>\n",
       "      <td>NaN</td>\n",
       "      <td>...</td>\n",
       "      <td>0</td>\n",
       "      <td>1</td>\n",
       "      <td>1</td>\n",
       "      <td>0</td>\n",
       "      <td>0</td>\n",
       "      <td>0</td>\n",
       "      <td>0</td>\n",
       "      <td>0</td>\n",
       "      <td>0</td>\n",
       "      <td>1</td>\n",
       "    </tr>\n",
       "    <tr>\n",
       "      <th>3</th>\n",
       "      <td>4</td>\n",
       "      <td>Berton</td>\n",
       "      <td>android web</td>\n",
       "      <td>Referral</td>\n",
       "      <td>2016-01-29</td>\n",
       "      <td>2016-02-03</td>\n",
       "      <td>2016-02-03</td>\n",
       "      <td>Toyota</td>\n",
       "      <td>Corolla</td>\n",
       "      <td>2016.0</td>\n",
       "      <td>...</td>\n",
       "      <td>0</td>\n",
       "      <td>0</td>\n",
       "      <td>0</td>\n",
       "      <td>0</td>\n",
       "      <td>1</td>\n",
       "      <td>1</td>\n",
       "      <td>0</td>\n",
       "      <td>0</td>\n",
       "      <td>0</td>\n",
       "      <td>0</td>\n",
       "    </tr>\n",
       "    <tr>\n",
       "      <th>4</th>\n",
       "      <td>5</td>\n",
       "      <td>Strark</td>\n",
       "      <td>android web</td>\n",
       "      <td>Referral</td>\n",
       "      <td>2016-01-10</td>\n",
       "      <td>2016-01-25</td>\n",
       "      <td>2016-01-26</td>\n",
       "      <td>Hyundai</td>\n",
       "      <td>Sonata</td>\n",
       "      <td>2016.0</td>\n",
       "      <td>...</td>\n",
       "      <td>1</td>\n",
       "      <td>0</td>\n",
       "      <td>0</td>\n",
       "      <td>0</td>\n",
       "      <td>1</td>\n",
       "      <td>1</td>\n",
       "      <td>0</td>\n",
       "      <td>0</td>\n",
       "      <td>0</td>\n",
       "      <td>0</td>\n",
       "    </tr>\n",
       "    <tr>\n",
       "      <th>...</th>\n",
       "      <td>...</td>\n",
       "      <td>...</td>\n",
       "      <td>...</td>\n",
       "      <td>...</td>\n",
       "      <td>...</td>\n",
       "      <td>...</td>\n",
       "      <td>...</td>\n",
       "      <td>...</td>\n",
       "      <td>...</td>\n",
       "      <td>...</td>\n",
       "      <td>...</td>\n",
       "      <td>...</td>\n",
       "      <td>...</td>\n",
       "      <td>...</td>\n",
       "      <td>...</td>\n",
       "      <td>...</td>\n",
       "      <td>...</td>\n",
       "      <td>...</td>\n",
       "      <td>...</td>\n",
       "      <td>...</td>\n",
       "      <td>...</td>\n",
       "    </tr>\n",
       "    <tr>\n",
       "      <th>54676</th>\n",
       "      <td>54677</td>\n",
       "      <td>Strark</td>\n",
       "      <td>other</td>\n",
       "      <td>Paid</td>\n",
       "      <td>2016-01-15</td>\n",
       "      <td>NaT</td>\n",
       "      <td>NaT</td>\n",
       "      <td>NaN</td>\n",
       "      <td>NaN</td>\n",
       "      <td>NaN</td>\n",
       "      <td>...</td>\n",
       "      <td>1</td>\n",
       "      <td>0</td>\n",
       "      <td>0</td>\n",
       "      <td>1</td>\n",
       "      <td>0</td>\n",
       "      <td>0</td>\n",
       "      <td>0</td>\n",
       "      <td>0</td>\n",
       "      <td>1</td>\n",
       "      <td>0</td>\n",
       "    </tr>\n",
       "    <tr>\n",
       "      <th>54677</th>\n",
       "      <td>54678</td>\n",
       "      <td>Strark</td>\n",
       "      <td>other</td>\n",
       "      <td>Paid</td>\n",
       "      <td>2016-01-21</td>\n",
       "      <td>NaT</td>\n",
       "      <td>NaT</td>\n",
       "      <td>NaN</td>\n",
       "      <td>NaN</td>\n",
       "      <td>NaN</td>\n",
       "      <td>...</td>\n",
       "      <td>1</td>\n",
       "      <td>0</td>\n",
       "      <td>0</td>\n",
       "      <td>1</td>\n",
       "      <td>0</td>\n",
       "      <td>0</td>\n",
       "      <td>0</td>\n",
       "      <td>0</td>\n",
       "      <td>1</td>\n",
       "      <td>0</td>\n",
       "    </tr>\n",
       "    <tr>\n",
       "      <th>54678</th>\n",
       "      <td>54679</td>\n",
       "      <td>Strark</td>\n",
       "      <td>ios web</td>\n",
       "      <td>Organic</td>\n",
       "      <td>2016-01-06</td>\n",
       "      <td>NaT</td>\n",
       "      <td>NaT</td>\n",
       "      <td>NaN</td>\n",
       "      <td>NaN</td>\n",
       "      <td>NaN</td>\n",
       "      <td>...</td>\n",
       "      <td>1</td>\n",
       "      <td>0</td>\n",
       "      <td>1</td>\n",
       "      <td>0</td>\n",
       "      <td>0</td>\n",
       "      <td>0</td>\n",
       "      <td>1</td>\n",
       "      <td>0</td>\n",
       "      <td>0</td>\n",
       "      <td>0</td>\n",
       "    </tr>\n",
       "    <tr>\n",
       "      <th>54679</th>\n",
       "      <td>54680</td>\n",
       "      <td>Berton</td>\n",
       "      <td>android web</td>\n",
       "      <td>Paid</td>\n",
       "      <td>2016-01-18</td>\n",
       "      <td>NaT</td>\n",
       "      <td>NaT</td>\n",
       "      <td>NaN</td>\n",
       "      <td>NaN</td>\n",
       "      <td>NaN</td>\n",
       "      <td>...</td>\n",
       "      <td>0</td>\n",
       "      <td>0</td>\n",
       "      <td>0</td>\n",
       "      <td>1</td>\n",
       "      <td>0</td>\n",
       "      <td>1</td>\n",
       "      <td>0</td>\n",
       "      <td>0</td>\n",
       "      <td>0</td>\n",
       "      <td>0</td>\n",
       "    </tr>\n",
       "    <tr>\n",
       "      <th>54680</th>\n",
       "      <td>54681</td>\n",
       "      <td>Berton</td>\n",
       "      <td>ios web</td>\n",
       "      <td>Organic</td>\n",
       "      <td>2016-01-27</td>\n",
       "      <td>NaT</td>\n",
       "      <td>NaT</td>\n",
       "      <td>NaN</td>\n",
       "      <td>NaN</td>\n",
       "      <td>NaN</td>\n",
       "      <td>...</td>\n",
       "      <td>0</td>\n",
       "      <td>0</td>\n",
       "      <td>1</td>\n",
       "      <td>0</td>\n",
       "      <td>0</td>\n",
       "      <td>0</td>\n",
       "      <td>1</td>\n",
       "      <td>0</td>\n",
       "      <td>0</td>\n",
       "      <td>0</td>\n",
       "    </tr>\n",
       "  </tbody>\n",
       "</table>\n",
       "<p>54681 rows × 30 columns</p>\n",
       "</div>"
      ],
      "text/plain": [
       "          id city_name    signup_os signup_channel signup_date   bgc_date  \\\n",
       "0          1    Strark      ios web           Paid  2016-01-02        NaT   \n",
       "1          2    Strark      windows           Paid  2016-01-21        NaT   \n",
       "2          3   Wrouver      windows        Organic  2016-01-11 2016-01-11   \n",
       "3          4    Berton  android web       Referral  2016-01-29 2016-02-03   \n",
       "4          5    Strark  android web       Referral  2016-01-10 2016-01-25   \n",
       "...      ...       ...          ...            ...         ...        ...   \n",
       "54676  54677    Strark        other           Paid  2016-01-15        NaT   \n",
       "54677  54678    Strark        other           Paid  2016-01-21        NaT   \n",
       "54678  54679    Strark      ios web        Organic  2016-01-06        NaT   \n",
       "54679  54680    Berton  android web           Paid  2016-01-18        NaT   \n",
       "54680  54681    Berton      ios web        Organic  2016-01-27        NaT   \n",
       "\n",
       "      vehicle_added_date vehicle_make vehicle_model  vehicle_year  ... Strark  \\\n",
       "0                    NaT          NaN           NaN           NaN  ...      1   \n",
       "1                    NaT          NaN           NaN           NaN  ...      1   \n",
       "2                    NaT          NaN           NaN           NaN  ...      0   \n",
       "3             2016-02-03       Toyota       Corolla        2016.0  ...      0   \n",
       "4             2016-01-26      Hyundai        Sonata        2016.0  ...      1   \n",
       "...                  ...          ...           ...           ...  ...    ...   \n",
       "54676                NaT          NaN           NaN           NaN  ...      1   \n",
       "54677                NaT          NaN           NaN           NaN  ...      1   \n",
       "54678                NaT          NaN           NaN           NaN  ...      1   \n",
       "54679                NaT          NaN           NaN           NaN  ...      0   \n",
       "54680                NaT          NaN           NaN           NaN  ...      0   \n",
       "\n",
       "       Wrouver  Organic  Paid  Referral  android web  ios web  mac  other  \\\n",
       "0            0        0     1         0            0        1    0      0   \n",
       "1            0        0     1         0            0        0    0      0   \n",
       "2            1        1     0         0            0        0    0      0   \n",
       "3            0        0     0         1            1        0    0      0   \n",
       "4            0        0     0         1            1        0    0      0   \n",
       "...        ...      ...   ...       ...          ...      ...  ...    ...   \n",
       "54676        0        0     1         0            0        0    0      1   \n",
       "54677        0        0     1         0            0        0    0      1   \n",
       "54678        0        1     0         0            0        1    0      0   \n",
       "54679        0        0     1         0            1        0    0      0   \n",
       "54680        0        1     0         0            0        1    0      0   \n",
       "\n",
       "       windows  \n",
       "0            0  \n",
       "1            1  \n",
       "2            1  \n",
       "3            0  \n",
       "4            0  \n",
       "...        ...  \n",
       "54676        0  \n",
       "54677        0  \n",
       "54678        0  \n",
       "54679        0  \n",
       "54680        0  \n",
       "\n",
       "[54681 rows x 30 columns]"
      ]
     },
     "execution_count": 28,
     "metadata": {},
     "output_type": "execute_result"
    }
   ],
   "source": [
    "city_dummy = data['city_name'].str.get_dummies()\n",
    "os_dummy = data['signup_os'].str.get_dummies()\n",
    "channel_dummy = data['signup_channel'].str.get_dummies()\n",
    "\n",
    "data = pd.concat([data, city_dummy, channel_dummy, os_dummy], axis=1)\n",
    "data"
   ]
  },
  {
   "cell_type": "markdown",
   "id": "e1570a66",
   "metadata": {},
   "source": [
    "In this way, we have converted the `city_name`, `signup_os` and `signup_channel` to dummy variables. We also have the categorical variables regarding the vehicle but these are more problematic. The issue is that there is just too many unique values in these columns and they repeat rather rarely. Converting them to dummy viariables would thus create a huge number of additional and very sparse features. One solution could be to perform some data fusion with a publicly available dataset of cars, try to match the combinations of types and makes from our dataset and in this way extract additional features such as e.g. the price of the car. In this analysis, however, I have decided not to include these two variables especially that, also logically speaking, the make and type of a vehicle probably have little influence on the fact if a driver will start driving. \n",
    "\n",
    "However, we can still use the `vehicle_year` variable as it is already a numerical feature. Well, almost, because it contains a lot of NULL values for the majority of the instances. It is also difficult to find a logical value to replace these NULLs with. We could use -1 or 0 but the this would largely increase the range of values in this feature which usually is a bad idea. Therefore, I changed this feature to the age of the car (difference between the year 2016 and the year when the car was made) and the instances where `vehicle_year` is NULL get assigned a value of -1. "
   ]
  },
  {
   "cell_type": "code",
   "execution_count": 29,
   "id": "cb6c1dab",
   "metadata": {
    "scrolled": true
   },
   "outputs": [
    {
     "data": {
      "text/html": [
       "<div>\n",
       "<style scoped>\n",
       "    .dataframe tbody tr th:only-of-type {\n",
       "        vertical-align: middle;\n",
       "    }\n",
       "\n",
       "    .dataframe tbody tr th {\n",
       "        vertical-align: top;\n",
       "    }\n",
       "\n",
       "    .dataframe thead th {\n",
       "        text-align: right;\n",
       "    }\n",
       "</style>\n",
       "<table border=\"1\" class=\"dataframe\">\n",
       "  <thead>\n",
       "    <tr style=\"text-align: right;\">\n",
       "      <th></th>\n",
       "      <th>vehicle_year</th>\n",
       "      <th>vehicle_age</th>\n",
       "    </tr>\n",
       "  </thead>\n",
       "  <tbody>\n",
       "    <tr>\n",
       "      <th>43709</th>\n",
       "      <td>2014.0</td>\n",
       "      <td>2.0</td>\n",
       "    </tr>\n",
       "    <tr>\n",
       "      <th>45049</th>\n",
       "      <td>2013.0</td>\n",
       "      <td>3.0</td>\n",
       "    </tr>\n",
       "    <tr>\n",
       "      <th>17770</th>\n",
       "      <td>NaN</td>\n",
       "      <td>-1.0</td>\n",
       "    </tr>\n",
       "    <tr>\n",
       "      <th>29913</th>\n",
       "      <td>NaN</td>\n",
       "      <td>-1.0</td>\n",
       "    </tr>\n",
       "    <tr>\n",
       "      <th>17251</th>\n",
       "      <td>NaN</td>\n",
       "      <td>-1.0</td>\n",
       "    </tr>\n",
       "    <tr>\n",
       "      <th>44727</th>\n",
       "      <td>NaN</td>\n",
       "      <td>-1.0</td>\n",
       "    </tr>\n",
       "    <tr>\n",
       "      <th>46516</th>\n",
       "      <td>NaN</td>\n",
       "      <td>-1.0</td>\n",
       "    </tr>\n",
       "    <tr>\n",
       "      <th>12173</th>\n",
       "      <td>NaN</td>\n",
       "      <td>-1.0</td>\n",
       "    </tr>\n",
       "    <tr>\n",
       "      <th>36516</th>\n",
       "      <td>NaN</td>\n",
       "      <td>-1.0</td>\n",
       "    </tr>\n",
       "    <tr>\n",
       "      <th>53814</th>\n",
       "      <td>NaN</td>\n",
       "      <td>-1.0</td>\n",
       "    </tr>\n",
       "  </tbody>\n",
       "</table>\n",
       "</div>"
      ],
      "text/plain": [
       "       vehicle_year  vehicle_age\n",
       "43709        2014.0          2.0\n",
       "45049        2013.0          3.0\n",
       "17770           NaN         -1.0\n",
       "29913           NaN         -1.0\n",
       "17251           NaN         -1.0\n",
       "44727           NaN         -1.0\n",
       "46516           NaN         -1.0\n",
       "12173           NaN         -1.0\n",
       "36516           NaN         -1.0\n",
       "53814           NaN         -1.0"
      ]
     },
     "execution_count": 29,
     "metadata": {},
     "output_type": "execute_result"
    }
   ],
   "source": [
    "def get_vehicle_age(year):\n",
    "    if pd.isna(year):\n",
    "        return -1\n",
    "    else:\n",
    "        return 2016 - year\n",
    "\n",
    "data['vehicle_age'] = data.apply(lambda row: get_vehicle_age(row['vehicle_year']), axis=1)\n",
    "data[['vehicle_year', 'vehicle_age']].sample(10)"
   ]
  },
  {
   "cell_type": "markdown",
   "id": "75846e55",
   "metadata": {},
   "source": [
    "Now, we can select the final features that will be used in our model and verify that these are indeed all numeric."
   ]
  },
  {
   "cell_type": "code",
   "execution_count": 30,
   "id": "095a7f20",
   "metadata": {},
   "outputs": [
    {
     "name": "stdout",
     "output_type": "stream",
     "text": [
      "(54681, 19)\n",
      "starts_driving            int32\n",
      "signup_day                int64\n",
      "signup_weekday            int64\n",
      "had_bgc                   int32\n",
      "bgc_delay               float64\n",
      "added_vehicle             int32\n",
      "vehicle_delay_signup    float64\n",
      "vehicle_delay_bgc       float64\n",
      "vehicle_age             float64\n",
      "Berton                    int64\n",
      "Strark                    int64\n",
      "Wrouver                   int64\n",
      "Organic                   int64\n",
      "Paid                      int64\n",
      "Referral                  int64\n",
      "android web               int64\n",
      "ios web                   int64\n",
      "mac                       int64\n",
      "windows                   int64\n",
      "dtype: object\n"
     ]
    },
    {
     "data": {
      "text/html": [
       "<div>\n",
       "<style scoped>\n",
       "    .dataframe tbody tr th:only-of-type {\n",
       "        vertical-align: middle;\n",
       "    }\n",
       "\n",
       "    .dataframe tbody tr th {\n",
       "        vertical-align: top;\n",
       "    }\n",
       "\n",
       "    .dataframe thead th {\n",
       "        text-align: right;\n",
       "    }\n",
       "</style>\n",
       "<table border=\"1\" class=\"dataframe\">\n",
       "  <thead>\n",
       "    <tr style=\"text-align: right;\">\n",
       "      <th></th>\n",
       "      <th>starts_driving</th>\n",
       "      <th>signup_day</th>\n",
       "      <th>signup_weekday</th>\n",
       "      <th>had_bgc</th>\n",
       "      <th>bgc_delay</th>\n",
       "      <th>added_vehicle</th>\n",
       "      <th>vehicle_delay_signup</th>\n",
       "      <th>vehicle_delay_bgc</th>\n",
       "      <th>vehicle_age</th>\n",
       "      <th>Berton</th>\n",
       "      <th>Strark</th>\n",
       "      <th>Wrouver</th>\n",
       "      <th>Organic</th>\n",
       "      <th>Paid</th>\n",
       "      <th>Referral</th>\n",
       "      <th>android web</th>\n",
       "      <th>ios web</th>\n",
       "      <th>mac</th>\n",
       "      <th>windows</th>\n",
       "    </tr>\n",
       "  </thead>\n",
       "  <tbody>\n",
       "    <tr>\n",
       "      <th>5385</th>\n",
       "      <td>0</td>\n",
       "      <td>28</td>\n",
       "      <td>3</td>\n",
       "      <td>1</td>\n",
       "      <td>100.0</td>\n",
       "      <td>0</td>\n",
       "      <td>100.0</td>\n",
       "      <td>100.0</td>\n",
       "      <td>-1.0</td>\n",
       "      <td>1</td>\n",
       "      <td>0</td>\n",
       "      <td>0</td>\n",
       "      <td>0</td>\n",
       "      <td>0</td>\n",
       "      <td>1</td>\n",
       "      <td>0</td>\n",
       "      <td>1</td>\n",
       "      <td>0</td>\n",
       "      <td>0</td>\n",
       "    </tr>\n",
       "    <tr>\n",
       "      <th>23948</th>\n",
       "      <td>0</td>\n",
       "      <td>5</td>\n",
       "      <td>1</td>\n",
       "      <td>1</td>\n",
       "      <td>100.0</td>\n",
       "      <td>0</td>\n",
       "      <td>100.0</td>\n",
       "      <td>100.0</td>\n",
       "      <td>-1.0</td>\n",
       "      <td>1</td>\n",
       "      <td>0</td>\n",
       "      <td>0</td>\n",
       "      <td>0</td>\n",
       "      <td>1</td>\n",
       "      <td>0</td>\n",
       "      <td>1</td>\n",
       "      <td>0</td>\n",
       "      <td>0</td>\n",
       "      <td>0</td>\n",
       "    </tr>\n",
       "    <tr>\n",
       "      <th>41261</th>\n",
       "      <td>0</td>\n",
       "      <td>9</td>\n",
       "      <td>5</td>\n",
       "      <td>1</td>\n",
       "      <td>100.0</td>\n",
       "      <td>0</td>\n",
       "      <td>100.0</td>\n",
       "      <td>100.0</td>\n",
       "      <td>-1.0</td>\n",
       "      <td>0</td>\n",
       "      <td>1</td>\n",
       "      <td>0</td>\n",
       "      <td>1</td>\n",
       "      <td>0</td>\n",
       "      <td>0</td>\n",
       "      <td>0</td>\n",
       "      <td>0</td>\n",
       "      <td>1</td>\n",
       "      <td>0</td>\n",
       "    </tr>\n",
       "    <tr>\n",
       "      <th>46712</th>\n",
       "      <td>0</td>\n",
       "      <td>7</td>\n",
       "      <td>3</td>\n",
       "      <td>1</td>\n",
       "      <td>100.0</td>\n",
       "      <td>0</td>\n",
       "      <td>100.0</td>\n",
       "      <td>100.0</td>\n",
       "      <td>-1.0</td>\n",
       "      <td>1</td>\n",
       "      <td>0</td>\n",
       "      <td>0</td>\n",
       "      <td>0</td>\n",
       "      <td>0</td>\n",
       "      <td>1</td>\n",
       "      <td>0</td>\n",
       "      <td>0</td>\n",
       "      <td>0</td>\n",
       "      <td>1</td>\n",
       "    </tr>\n",
       "    <tr>\n",
       "      <th>44163</th>\n",
       "      <td>0</td>\n",
       "      <td>8</td>\n",
       "      <td>4</td>\n",
       "      <td>1</td>\n",
       "      <td>100.0</td>\n",
       "      <td>0</td>\n",
       "      <td>100.0</td>\n",
       "      <td>100.0</td>\n",
       "      <td>-1.0</td>\n",
       "      <td>0</td>\n",
       "      <td>1</td>\n",
       "      <td>0</td>\n",
       "      <td>0</td>\n",
       "      <td>1</td>\n",
       "      <td>0</td>\n",
       "      <td>1</td>\n",
       "      <td>0</td>\n",
       "      <td>0</td>\n",
       "      <td>0</td>\n",
       "    </tr>\n",
       "  </tbody>\n",
       "</table>\n",
       "</div>"
      ],
      "text/plain": [
       "       starts_driving  signup_day  signup_weekday  had_bgc  bgc_delay  \\\n",
       "5385                0          28               3        1      100.0   \n",
       "23948               0           5               1        1      100.0   \n",
       "41261               0           9               5        1      100.0   \n",
       "46712               0           7               3        1      100.0   \n",
       "44163               0           8               4        1      100.0   \n",
       "\n",
       "       added_vehicle  vehicle_delay_signup  vehicle_delay_bgc  vehicle_age  \\\n",
       "5385               0                 100.0              100.0         -1.0   \n",
       "23948              0                 100.0              100.0         -1.0   \n",
       "41261              0                 100.0              100.0         -1.0   \n",
       "46712              0                 100.0              100.0         -1.0   \n",
       "44163              0                 100.0              100.0         -1.0   \n",
       "\n",
       "       Berton  Strark  Wrouver  Organic  Paid  Referral  android web  ios web  \\\n",
       "5385        1       0        0        0     0         1            0        1   \n",
       "23948       1       0        0        0     1         0            1        0   \n",
       "41261       0       1        0        1     0         0            0        0   \n",
       "46712       1       0        0        0     0         1            0        0   \n",
       "44163       0       1        0        0     1         0            1        0   \n",
       "\n",
       "       mac  windows  \n",
       "5385     0        0  \n",
       "23948    0        0  \n",
       "41261    1        0  \n",
       "46712    0        1  \n",
       "44163    0        0  "
      ]
     },
     "execution_count": 30,
     "metadata": {},
     "output_type": "execute_result"
    }
   ],
   "source": [
    "final_data = data[['starts_driving', 'signup_day', 'signup_weekday', 'had_bgc', 'bgc_delay', \n",
    "                   'added_vehicle', 'vehicle_delay_signup', 'vehicle_delay_bgc', 'vehicle_age', \n",
    "                   'Berton', 'Strark', 'Wrouver', 'Organic', 'Paid', 'Referral', 'android web', \n",
    "                   'ios web', 'mac', 'windows']]\n",
    "print(final_data.shape)\n",
    "print(final_data.dtypes)\n",
    "final_data.sample(5)"
   ]
  },
  {
   "cell_type": "markdown",
   "id": "7a954e70",
   "metadata": {},
   "source": [
    "As we can see, we now have 19 variables (18 features and 1 binary target variable) - all of them being numerical."
   ]
  },
  {
   "cell_type": "markdown",
   "id": "dbc9bffb",
   "metadata": {},
   "source": [
    "### 3.3. Multicolinearity Check <a class=\"anchor\" id=\"mc\"></a>\n",
    "\n",
    "Before proceeding, we can still check for multicolinearity among our features since it can influence the performance of some models. We will check it by computing a Variance Inflation Factor (VIF) of each variable."
   ]
  },
  {
   "cell_type": "code",
   "execution_count": 31,
   "id": "5152131b",
   "metadata": {},
   "outputs": [
    {
     "name": "stderr",
     "output_type": "stream",
     "text": [
      "C:\\Users\\mateu\\anaconda3\\lib\\site-packages\\statsmodels\\stats\\outliers_influence.py:193: RuntimeWarning: divide by zero encountered in double_scalars\n",
      "  vif = 1. / (1. - r_squared_i)\n"
     ]
    },
    {
     "data": {
      "text/html": [
       "<div>\n",
       "<style scoped>\n",
       "    .dataframe tbody tr th:only-of-type {\n",
       "        vertical-align: middle;\n",
       "    }\n",
       "\n",
       "    .dataframe tbody tr th {\n",
       "        vertical-align: top;\n",
       "    }\n",
       "\n",
       "    .dataframe thead th {\n",
       "        text-align: right;\n",
       "    }\n",
       "</style>\n",
       "<table border=\"1\" class=\"dataframe\">\n",
       "  <thead>\n",
       "    <tr style=\"text-align: right;\">\n",
       "      <th></th>\n",
       "      <th>feature</th>\n",
       "      <th>VIF</th>\n",
       "    </tr>\n",
       "  </thead>\n",
       "  <tbody>\n",
       "    <tr>\n",
       "      <th>0</th>\n",
       "      <td>signup_weekday</td>\n",
       "      <td>1.009523</td>\n",
       "    </tr>\n",
       "    <tr>\n",
       "      <th>1</th>\n",
       "      <td>vehicle_age</td>\n",
       "      <td>1.026443</td>\n",
       "    </tr>\n",
       "    <tr>\n",
       "      <th>2</th>\n",
       "      <td>signup_day</td>\n",
       "      <td>1.037899</td>\n",
       "    </tr>\n",
       "    <tr>\n",
       "      <th>3</th>\n",
       "      <td>had_bgc</td>\n",
       "      <td>1.312678</td>\n",
       "    </tr>\n",
       "    <tr>\n",
       "      <th>4</th>\n",
       "      <td>mac</td>\n",
       "      <td>1.478806</td>\n",
       "    </tr>\n",
       "    <tr>\n",
       "      <th>5</th>\n",
       "      <td>windows</td>\n",
       "      <td>1.560272</td>\n",
       "    </tr>\n",
       "    <tr>\n",
       "      <th>6</th>\n",
       "      <td>android web</td>\n",
       "      <td>1.920943</td>\n",
       "    </tr>\n",
       "    <tr>\n",
       "      <th>7</th>\n",
       "      <td>ios web</td>\n",
       "      <td>1.956118</td>\n",
       "    </tr>\n",
       "    <tr>\n",
       "      <th>8</th>\n",
       "      <td>vehicle_delay_bgc</td>\n",
       "      <td>35.431835</td>\n",
       "    </tr>\n",
       "    <tr>\n",
       "      <th>9</th>\n",
       "      <td>added_vehicle</td>\n",
       "      <td>47.355684</td>\n",
       "    </tr>\n",
       "    <tr>\n",
       "      <th>10</th>\n",
       "      <td>vehicle_delay_signup</td>\n",
       "      <td>52.480494</td>\n",
       "    </tr>\n",
       "    <tr>\n",
       "      <th>11</th>\n",
       "      <td>starts_driving</td>\n",
       "      <td>119.286773</td>\n",
       "    </tr>\n",
       "    <tr>\n",
       "      <th>12</th>\n",
       "      <td>bgc_delay</td>\n",
       "      <td>122.699018</td>\n",
       "    </tr>\n",
       "    <tr>\n",
       "      <th>13</th>\n",
       "      <td>Organic</td>\n",
       "      <td>inf</td>\n",
       "    </tr>\n",
       "    <tr>\n",
       "      <th>14</th>\n",
       "      <td>Paid</td>\n",
       "      <td>inf</td>\n",
       "    </tr>\n",
       "    <tr>\n",
       "      <th>15</th>\n",
       "      <td>Referral</td>\n",
       "      <td>inf</td>\n",
       "    </tr>\n",
       "    <tr>\n",
       "      <th>16</th>\n",
       "      <td>Strark</td>\n",
       "      <td>inf</td>\n",
       "    </tr>\n",
       "    <tr>\n",
       "      <th>17</th>\n",
       "      <td>Wrouver</td>\n",
       "      <td>inf</td>\n",
       "    </tr>\n",
       "    <tr>\n",
       "      <th>18</th>\n",
       "      <td>Berton</td>\n",
       "      <td>inf</td>\n",
       "    </tr>\n",
       "  </tbody>\n",
       "</table>\n",
       "</div>"
      ],
      "text/plain": [
       "                 feature         VIF\n",
       "0         signup_weekday    1.009523\n",
       "1            vehicle_age    1.026443\n",
       "2             signup_day    1.037899\n",
       "3                had_bgc    1.312678\n",
       "4                    mac    1.478806\n",
       "5                windows    1.560272\n",
       "6            android web    1.920943\n",
       "7                ios web    1.956118\n",
       "8      vehicle_delay_bgc   35.431835\n",
       "9          added_vehicle   47.355684\n",
       "10  vehicle_delay_signup   52.480494\n",
       "11        starts_driving  119.286773\n",
       "12             bgc_delay  122.699018\n",
       "13               Organic         inf\n",
       "14                  Paid         inf\n",
       "15              Referral         inf\n",
       "16                Strark         inf\n",
       "17               Wrouver         inf\n",
       "18                Berton         inf"
      ]
     },
     "execution_count": 31,
     "metadata": {},
     "output_type": "execute_result"
    }
   ],
   "source": [
    "from statsmodels.stats.outliers_influence import variance_inflation_factor\n",
    "\n",
    "# compute VIF score with variance_inflation_factor() function\n",
    "def compute_vif(features):\n",
    "    vif_data = pd.DataFrame()\n",
    "    vif_data[\"feature\"] = features\n",
    "    vif_data[\"VIF\"] = [variance_inflation_factor(final_data[features].values, i) for i in range(len(features))]\n",
    "    return vif_data.sort_values(by=['VIF']).reset_index(drop=True)\n",
    "\n",
    "# apply VIF computation to all columns\n",
    "features = final_data.columns.to_list()\n",
    "vif_data = compute_vif(features)\n",
    "vif_data"
   ]
  },
  {
   "cell_type": "markdown",
   "id": "427b4231",
   "metadata": {},
   "source": [
    "There is quite a lot of features with high VIF values. This indicates high multicollinearity or our features set. To repair this, we can remove some features. We'll start by removing a feature with the highest VIF value, then recompute the score before removing the next feature. We will continue this process until all feature have a VIF score below 20. (this is arbitrary choice)."
   ]
  },
  {
   "cell_type": "code",
   "execution_count": 32,
   "id": "b60e2a05",
   "metadata": {},
   "outputs": [
    {
     "name": "stdout",
     "output_type": "stream",
     "text": [
      "I will remove Berton\n",
      "I will remove Paid\n",
      "I will remove bgc_delay\n",
      "I will remove vehicle_delay_signup\n"
     ]
    },
    {
     "data": {
      "text/html": [
       "<div>\n",
       "<style scoped>\n",
       "    .dataframe tbody tr th:only-of-type {\n",
       "        vertical-align: middle;\n",
       "    }\n",
       "\n",
       "    .dataframe tbody tr th {\n",
       "        vertical-align: top;\n",
       "    }\n",
       "\n",
       "    .dataframe thead th {\n",
       "        text-align: right;\n",
       "    }\n",
       "</style>\n",
       "<table border=\"1\" class=\"dataframe\">\n",
       "  <thead>\n",
       "    <tr style=\"text-align: right;\">\n",
       "      <th></th>\n",
       "      <th>feature</th>\n",
       "      <th>VIF</th>\n",
       "    </tr>\n",
       "  </thead>\n",
       "  <tbody>\n",
       "    <tr>\n",
       "      <th>0</th>\n",
       "      <td>vehicle_age</td>\n",
       "      <td>1.026981</td>\n",
       "    </tr>\n",
       "    <tr>\n",
       "      <th>1</th>\n",
       "      <td>Wrouver</td>\n",
       "      <td>1.257200</td>\n",
       "    </tr>\n",
       "    <tr>\n",
       "      <th>2</th>\n",
       "      <td>Organic</td>\n",
       "      <td>1.640217</td>\n",
       "    </tr>\n",
       "    <tr>\n",
       "      <th>3</th>\n",
       "      <td>mac</td>\n",
       "      <td>1.641575</td>\n",
       "    </tr>\n",
       "    <tr>\n",
       "      <th>4</th>\n",
       "      <td>windows</td>\n",
       "      <td>1.758380</td>\n",
       "    </tr>\n",
       "    <tr>\n",
       "      <th>5</th>\n",
       "      <td>starts_driving</td>\n",
       "      <td>1.789475</td>\n",
       "    </tr>\n",
       "    <tr>\n",
       "      <th>6</th>\n",
       "      <td>Referral</td>\n",
       "      <td>2.008378</td>\n",
       "    </tr>\n",
       "    <tr>\n",
       "      <th>7</th>\n",
       "      <td>Strark</td>\n",
       "      <td>2.460871</td>\n",
       "    </tr>\n",
       "    <tr>\n",
       "      <th>8</th>\n",
       "      <td>android web</td>\n",
       "      <td>2.602042</td>\n",
       "    </tr>\n",
       "    <tr>\n",
       "      <th>9</th>\n",
       "      <td>ios web</td>\n",
       "      <td>2.765154</td>\n",
       "    </tr>\n",
       "    <tr>\n",
       "      <th>10</th>\n",
       "      <td>had_bgc</td>\n",
       "      <td>3.202327</td>\n",
       "    </tr>\n",
       "    <tr>\n",
       "      <th>11</th>\n",
       "      <td>signup_weekday</td>\n",
       "      <td>3.246871</td>\n",
       "    </tr>\n",
       "    <tr>\n",
       "      <th>12</th>\n",
       "      <td>signup_day</td>\n",
       "      <td>3.859872</td>\n",
       "    </tr>\n",
       "    <tr>\n",
       "      <th>13</th>\n",
       "      <td>added_vehicle</td>\n",
       "      <td>5.138216</td>\n",
       "    </tr>\n",
       "    <tr>\n",
       "      <th>14</th>\n",
       "      <td>vehicle_delay_bgc</td>\n",
       "      <td>11.183868</td>\n",
       "    </tr>\n",
       "  </tbody>\n",
       "</table>\n",
       "</div>"
      ],
      "text/plain": [
       "              feature        VIF\n",
       "0         vehicle_age   1.026981\n",
       "1             Wrouver   1.257200\n",
       "2             Organic   1.640217\n",
       "3                 mac   1.641575\n",
       "4             windows   1.758380\n",
       "5      starts_driving   1.789475\n",
       "6            Referral   2.008378\n",
       "7              Strark   2.460871\n",
       "8         android web   2.602042\n",
       "9             ios web   2.765154\n",
       "10            had_bgc   3.202327\n",
       "11     signup_weekday   3.246871\n",
       "12         signup_day   3.859872\n",
       "13      added_vehicle   5.138216\n",
       "14  vehicle_delay_bgc  11.183868"
      ]
     },
     "execution_count": 32,
     "metadata": {},
     "output_type": "execute_result"
    }
   ],
   "source": [
    "# drop with highest vif score until all vif scores are under 20\n",
    "multicollinearity = True\n",
    "\n",
    "while multicollinearity:\n",
    "    highest_vif_feature = vif_data['feature'].values.tolist()[-1]\n",
    "    print(\"I will remove\", highest_vif_feature)\n",
    "    features.remove(highest_vif_feature)\n",
    "    vif_data = compute_vif(features)\n",
    "    multicollinearity = False if len(vif_data[vif_data.VIF > 20]) == 0 else True\n",
    "\n",
    "selected_features = vif_data['feature'].values.tolist()\n",
    "vif_data"
   ]
  },
  {
   "cell_type": "markdown",
   "id": "7b7ff7a9",
   "metadata": {},
   "source": [
    "The process has removed 4 features. By looking at which ones these were, we can understand why multicollinearity has occured. For example, one of the dummy_variables for the city name has been removed. This is because we already have two other features for the two other city names and if the values in both of these columns are 0, then it implies a row being from the third city.\n",
    "\n",
    "Finally, we can plot the correlation diagram of the final set of features."
   ]
  },
  {
   "cell_type": "code",
   "execution_count": 33,
   "id": "87196593",
   "metadata": {},
   "outputs": [
    {
     "data": {
      "image/png": "[encoded data removed]",
      "text/plain": [
       "<Figure size 1080x1080 with 2 Axes>"
      ]
     },
     "metadata": {
      "needs_background": "light"
     },
     "output_type": "display_data"
    }
   ],
   "source": [
    "# correlation matrix of multicollinearity free dataset\n",
    "plt.figure(figsize=(15, 15)) # width and height in inches\n",
    "sns.heatmap(final_data[selected_features].corr(), annot=True, lw=1)\n",
    "plt.show()"
   ]
  },
  {
   "cell_type": "markdown",
   "id": "e7c6e1e7",
   "metadata": {},
   "source": [
    "## 4. Modeling <a class=\"anchor\" id=\"m\"></a>\n",
    "\n",
    "Now that the data have been prepared, we can use them to define a predictive model. \n",
    "\n",
    "First, we need to split the dataset into a training and test sets. I decided to do it in 75%/25% proportions.\n",
    "\n",
    "Because of the significant class imbalance in the target variable (only 11% of sign-ups started driving), I'm performing a stratified train/test split to ensure the good representation of the two classes of the target variable in both sets. "
   ]
  },
  {
   "cell_type": "code",
   "execution_count": 34,
   "id": "a6b17d86",
   "metadata": {},
   "outputs": [],
   "source": [
    "from sklearn.model_selection import train_test_split\n",
    "\n",
    "model_data = final_data[selected_features]\n",
    "\n",
    "Y = np.array(model_data['starts_driving'])\n",
    "X = np.array(model_data.drop('starts_driving', axis=1))\n",
    "\n",
    "X_train, X_test, Y_train, Y_test = train_test_split(X, Y, stratify=Y, test_size=0.25, random_state=42)"
   ]
  },
  {
   "cell_type": "markdown",
   "id": "f1fb4af7",
   "metadata": {},
   "source": [
    "Since the different features in our dataset have verrying range (some are binary while some stretch from 0 to 100), it's a good practice to scale the input variables. I will use a MinMaxScaler from the sklearn library that will map all the features to a (0,1) space."
   ]
  },
  {
   "cell_type": "code",
   "execution_count": 35,
   "id": "32c5d5fa",
   "metadata": {},
   "outputs": [],
   "source": [
    "from sklearn.preprocessing import MinMaxScaler\n",
    "\n",
    "scaler = MinMaxScaler()\n",
    "X_train_scaled = scaler.fit_transform(X_train)\n",
    "X_test_scaled = scaler.transform(X_test)"
   ]
  },
  {
   "cell_type": "markdown",
   "id": "684c5f8b",
   "metadata": {},
   "source": [
    "Now, we can actually select the models. I decided to train a selection of very popular classification models and compare their performance. The implementation of all the models comes from the sklearn library. The models I selected are:\n",
    "\n",
    "- Logistic regression - similar to linear regression, but adapted to classification via using the logit function. Amazon have an extensive [tutorial](https://aws.amazon.com/what-is/logistic-regression/) on logistic regression.\n",
    "- Decision tree classifier - builds a single decision tree, where each node is a decision concerning the level of one of the features, to most accurately capture the conditions determining each output class\n",
    "- Random forest classifier - an algorithm constructing a number of decision trees, each time reshuffling the data using bootstrap technique, and determining the final prediction based on the weighted average of the resuls of all the trees\n",
    "- Gradient boosting classifier - similar to random forest but the next decision trees are built consecutively, each time using the knowledge from the previous decision tree\n",
    "- Support vector machine - similar to logistic regression but instead of finding a linear function in the feature space to best split the target instance per class, the SVM tries to establish the largest possible linear buffer between the different classes\n",
    "- Stochastic gradient descent classifier - an algorithm that uses gradient descent to learn regularized linear classifiers\n",
    "- k-NN (Nearest Neighbours) - instance based learning algorithm that uses majority voting of its __k__ nearest neighbors (most similar instances from the training set) to classify a new instance"
   ]
  },
  {
   "cell_type": "code",
   "execution_count": 36,
   "id": "6ee1a2b4",
   "metadata": {},
   "outputs": [],
   "source": [
    "from sklearn.linear_model import LogisticRegression\n",
    "from sklearn.tree import DecisionTreeClassifier\n",
    "from sklearn.ensemble import RandomForestClassifier\n",
    "from sklearn.ensemble import GradientBoostingClassifier\n",
    "from sklearn import svm\n",
    "from sklearn.linear_model import SGDClassifier\n",
    "from sklearn.neighbors import KNeighborsClassifier\n",
    "\n",
    "names = [\n",
    "    \"Logistic Regression\",\n",
    "    \"Decision Tree\",\n",
    "    \"Random Forest\",\n",
    "    \"Gradient Boosting\",\n",
    "    \"SVM\",\n",
    "    \"SDG\",\n",
    "    \"KNN\"\n",
    "]\n",
    "\n",
    "classifiers = [\n",
    "    LogisticRegression(),\n",
    "    DecisionTreeClassifier(random_state=18),\n",
    "    RandomForestClassifier(random_state=32),\n",
    "    GradientBoostingClassifier(random_state=74),\n",
    "    svm.SVC(),\n",
    "    SGDClassifier(),\n",
    "    KNeighborsClassifier()\n",
    "]"
   ]
  },
  {
   "cell_type": "markdown",
   "id": "5c6be4e6",
   "metadata": {},
   "source": [
    "I will train these models using their default parameters and the training sets. We can then evaluate the models using a test set and the following metrics:\n",
    "\n",
    "- Accuracy - the number of correct predictions divided by the total number of predictions\n",
    "- F1 score - the harmonic mean of precision and recall, where:\n",
    "    - Precision - the number of true positive predictions divided by the number of all correct predictions\n",
    "    - Recall - the number of true positive predictions divided by the number of all relevant items (true positive and false negatives)"
   ]
  },
  {
   "cell_type": "code",
   "execution_count": 37,
   "id": "f9e76945",
   "metadata": {},
   "outputs": [
    {
     "name": "stdout",
     "output_type": "stream",
     "text": [
      "accuracy: 0.92 f1_score: 0.81 Model: Logistic Regression\n",
      "accuracy: 0.90 f1_score: 0.75 Model: Decision Tree\n",
      "accuracy: 0.92 f1_score: 0.78 Model: Random Forest\n",
      "accuracy: 0.93 f1_score: 0.82 Model: Gradient Boosting\n",
      "accuracy: 0.92 f1_score: 0.80 Model: SVM\n",
      "accuracy: 0.92 f1_score: 0.80 Model: SDG\n",
      "accuracy: 0.90 f1_score: 0.76 Model: KNN\n"
     ]
    }
   ],
   "source": [
    "from sklearn.metrics import f1_score\n",
    "\n",
    "for name, clf in zip(names, classifiers):\n",
    "    clf.fit(X_train_scaled, Y_train)\n",
    "    acc_score = clf.score(X_test_scaled, Y_test)\n",
    "    Y_pred = clf.predict(X_test_scaled)\n",
    "    f_score = f1_score(Y_test, Y_pred, average='macro')\n",
    "    print(\"accuracy:\", \"{:.2f}\".format(acc_score), \"f1_score:\", \"{:.2f}\".format(f_score), \"Model:\", name)"
   ]
  },
  {
   "cell_type": "markdown",
   "id": "8672e615",
   "metadata": {},
   "source": [
    "The accuracies are very high which may suggest that our model do very well in the prediction task. However, there is a potential issue that we must consider. It has to do with class imbalance. Remember that we're predicting if sign-ups will start driving and only 11% of sign-ups in the dataset do. Therefore, if we had a very simple \"model\" that would only assign False predictions to all cases, it would still be correct in 89% of cases. \n",
    "\n",
    "So, to check if this is really a problem, we can observe the F1 score separately for the both classes of the target variable:"
   ]
  },
  {
   "cell_type": "code",
   "execution_count": 38,
   "id": "f97aaff9",
   "metadata": {
    "scrolled": true
   },
   "outputs": [
    {
     "data": {
      "image/png": "[encoded data removed]",
      "text/plain": [
       "<Figure size 576x396 with 2 Axes>"
      ]
     },
     "metadata": {},
     "output_type": "display_data"
    },
    {
     "data": {
      "image/png": "[encoded data removed]",
      "text/plain": [
       "<Figure size 576x396 with 2 Axes>"
      ]
     },
     "metadata": {},
     "output_type": "display_data"
    },
    {
     "data": {
      "image/png": "[encoded data removed]",
      "text/plain": [
       "<Figure size 576x396 with 2 Axes>"
      ]
     },
     "metadata": {},
     "output_type": "display_data"
    },
    {
     "data": {
      "image/png": "[encoded data removed]",
      "text/plain": [
       "<Figure size 576x396 with 2 Axes>"
      ]
     },
     "metadata": {},
     "output_type": "display_data"
    },
    {
     "data": {
      "image/png": "[encoded data removed]",
      "text/plain": [
       "<Figure size 576x396 with 2 Axes>"
      ]
     },
     "metadata": {},
     "output_type": "display_data"
    },
    {
     "data": {
      "image/png": "[encoded data removed]",
      "text/plain": [
       "<Figure size 576x396 with 2 Axes>"
      ]
     },
     "metadata": {},
     "output_type": "display_data"
    },
    {
     "data": {
      "image/png": "[encoded data removed]",
      "text/plain": [
       "<Figure size 576x396 with 2 Axes>"
      ]
     },
     "metadata": {},
     "output_type": "display_data"
    }
   ],
   "source": [
    "from yellowbrick.classifier import ClassificationReport\n",
    "\n",
    "for name, clf in zip(names, classifiers):\n",
    "    visualizer = ClassificationReport(clf, classes=[\"starts_driving=0\", \"starts_driving=1\"])\n",
    "    visualizer.fit(X_train_scaled, Y_train)\n",
    "    visualizer.score(X_test_scaled, Y_test)\n",
    "    visualizer.show()"
   ]
  },
  {
   "cell_type": "markdown",
   "id": "f5be081a",
   "metadata": {},
   "source": [
    "As we can see, most models struggle a lot when predicting the True label simply because of the class imbalance and how few, in comparison with the outcome, such instances there are. Still, the tree-based Gradient Boosting Classifier seems to perform very well for both classes. \n",
    "\n",
    "Based on all this information, we may want to select the Gradient Boosting Classifier as the right model for this task."
   ]
  },
  {
   "cell_type": "markdown",
   "id": "e3daada7",
   "metadata": {},
   "source": [
    "## 5. Conclusion <a class=\"anchor\" id=\"c\"></a>\n",
    "\n",
    "In the end, we have managed to find a rather accurate model for predicting if Uber sign-ups from 2016 would start driving. Hypothetically, if Uber had access to such a model, they could use it to better allocate resources (e.g. spend more on onboarding of the drivers who are more likely to start driving), to better estimate how many drivers will there be in the system after a certain time period or to make a decision to better support the drivers who are less likely to start driving with a hope to reverse the trend.\n",
    "\n",
    "The main disadvantage of this model seems to be the fact that it uses multiple features that describe the driver's behaviour after their sign-up. We're looking for example at facts such as if they complete a background check or how old is their car but in some cases we may only find out about these facts up to 30 days after sign-up when it may well be already clear if the driver starts driving or not. A possible solution could be splitting this model into two: first we would try to make the prediction based solely on the sign-up date but this will likely not be very accurate. Then, we can only consider drivers who already had a background check and added a vehicle, and predict who of those will start driving (after all, it's only ~50%). But these specific choices would depend on the business targets and it would need to be executives in the company to decide these.\n",
    "\n",
    "Coming back to our model, we could further improve its performance by applying parameters tunning on the best performing model or by addressing the issue of class imbalance (e.g. via resampling of the target variable using SMOTE or bootstrapping). In theory, we could also try implementing a more advanced nerual-network-based model but given the already good performance of the classic ML models and the size of the dataset (35.000 instances in training set), I highly doubt the neural network would significantly outperform the random forest classifier."
   ]
  }
 ],
 "metadata": {
  "kernelspec": {
   "display_name": "Python 3",
   "language": "python",
   "name": "python3"
  },
  "language_info": {
   "codemirror_mode": {
    "name": "ipython",
    "version": 3
   },
   "file_extension": ".py",
   "mimetype": "text/x-python",
   "name": "python",
   "nbconvert_exporter": "python",
   "pygments_lexer": "ipython3",
   "version": "3.8.8"
  }
 },
 "nbformat": 4,
 "nbformat_minor": 5
}
